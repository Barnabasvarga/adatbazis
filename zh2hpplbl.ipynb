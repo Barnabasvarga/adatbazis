{
    "metadata": {
        "kernelspec": {
            "name": "SQL",
            "display_name": "SQL",
            "language": "sql"
        },
        "language_info": {
            "name": "sql",
            "version": ""
        }
    },
    "nbformat_minor": 2,
    "nbformat": 4,
    "cells": [
        {
            "cell_type": "code",
            "source": [
                "--1. feladat \r\n",
                "SELECT  \r\n",
                "    CASE \r\n",
                "        WHEN SZOBA_FK IS NULL THEN 'Összes foglalás'\r\n",
                "        ELSE CONVERT(NVARCHAR, SZOBA_FK)\r\n",
                "    END AS Szoba,  COUNT(*) AS Foglalás\r\n",
                "FROM  FOGLALAS\r\n",
                "WHERE FELNOTT_SZAM > GYERMEK_SZAM\r\n",
                "GROUP BY SZOBA_FK\r\n",
                "WITH ROLLUP;\r\n",
                "\r\n",
                ""
            ],
            "metadata": {
                "azdata_cell_guid": "9b587168-b51f-4c8b-8ddb-9b02a87c4a16",
                "language": "sql"
            },
            "outputs": [
                {
                    "output_type": "display_data",
                    "data": {
                        "text/html": "(190 rows affected)"
                    },
                    "metadata": {}
                },
                {
                    "output_type": "display_data",
                    "data": {
                        "text/html": "Total execution time: 00:00:00.009"
                    },
                    "metadata": {}
                },
                {
                    "output_type": "execute_result",
                    "metadata": {},
                    "execution_count": 10,
                    "data": {
                        "application/vnd.dataresource+json": {
                            "schema": {
                                "fields": [
                                    {
                                        "name": "Szoba"
                                    },
                                    {
                                        "name": "Foglalás"
                                    }
                                ]
                            },
                            "data": [
                                {
                                    "Szoba": "1",
                                    "Foglalás": "7"
                                },
                                {
                                    "Szoba": "2",
                                    "Foglalás": "2"
                                },
                                {
                                    "Szoba": "3",
                                    "Foglalás": "3"
                                },
                                {
                                    "Szoba": "4",
                                    "Foglalás": "5"
                                },
                                {
                                    "Szoba": "5",
                                    "Foglalás": "2"
                                },
                                {
                                    "Szoba": "6",
                                    "Foglalás": "5"
                                },
                                {
                                    "Szoba": "7",
                                    "Foglalás": "6"
                                },
                                {
                                    "Szoba": "8",
                                    "Foglalás": "5"
                                },
                                {
                                    "Szoba": "9",
                                    "Foglalás": "4"
                                },
                                {
                                    "Szoba": "10",
                                    "Foglalás": "4"
                                },
                                {
                                    "Szoba": "11",
                                    "Foglalás": "4"
                                },
                                {
                                    "Szoba": "12",
                                    "Foglalás": "7"
                                },
                                {
                                    "Szoba": "13",
                                    "Foglalás": "4"
                                },
                                {
                                    "Szoba": "14",
                                    "Foglalás": "3"
                                },
                                {
                                    "Szoba": "15",
                                    "Foglalás": "4"
                                },
                                {
                                    "Szoba": "16",
                                    "Foglalás": "1"
                                },
                                {
                                    "Szoba": "17",
                                    "Foglalás": "2"
                                },
                                {
                                    "Szoba": "18",
                                    "Foglalás": "3"
                                },
                                {
                                    "Szoba": "19",
                                    "Foglalás": "4"
                                },
                                {
                                    "Szoba": "20",
                                    "Foglalás": "5"
                                },
                                {
                                    "Szoba": "21",
                                    "Foglalás": "1"
                                },
                                {
                                    "Szoba": "22",
                                    "Foglalás": "2"
                                },
                                {
                                    "Szoba": "23",
                                    "Foglalás": "3"
                                },
                                {
                                    "Szoba": "24",
                                    "Foglalás": "3"
                                },
                                {
                                    "Szoba": "25",
                                    "Foglalás": "1"
                                },
                                {
                                    "Szoba": "27",
                                    "Foglalás": "5"
                                },
                                {
                                    "Szoba": "28",
                                    "Foglalás": "5"
                                },
                                {
                                    "Szoba": "29",
                                    "Foglalás": "3"
                                },
                                {
                                    "Szoba": "30",
                                    "Foglalás": "2"
                                },
                                {
                                    "Szoba": "31",
                                    "Foglalás": "1"
                                },
                                {
                                    "Szoba": "32",
                                    "Foglalás": "1"
                                },
                                {
                                    "Szoba": "33",
                                    "Foglalás": "3"
                                },
                                {
                                    "Szoba": "34",
                                    "Foglalás": "3"
                                },
                                {
                                    "Szoba": "35",
                                    "Foglalás": "6"
                                },
                                {
                                    "Szoba": "36",
                                    "Foglalás": "4"
                                },
                                {
                                    "Szoba": "37",
                                    "Foglalás": "2"
                                },
                                {
                                    "Szoba": "38",
                                    "Foglalás": "5"
                                },
                                {
                                    "Szoba": "39",
                                    "Foglalás": "4"
                                },
                                {
                                    "Szoba": "40",
                                    "Foglalás": "3"
                                },
                                {
                                    "Szoba": "41",
                                    "Foglalás": "1"
                                },
                                {
                                    "Szoba": "42",
                                    "Foglalás": "5"
                                },
                                {
                                    "Szoba": "43",
                                    "Foglalás": "4"
                                },
                                {
                                    "Szoba": "44",
                                    "Foglalás": "6"
                                },
                                {
                                    "Szoba": "45",
                                    "Foglalás": "4"
                                },
                                {
                                    "Szoba": "46",
                                    "Foglalás": "3"
                                },
                                {
                                    "Szoba": "47",
                                    "Foglalás": "2"
                                },
                                {
                                    "Szoba": "48",
                                    "Foglalás": "6"
                                },
                                {
                                    "Szoba": "49",
                                    "Foglalás": "5"
                                },
                                {
                                    "Szoba": "50",
                                    "Foglalás": "3"
                                },
                                {
                                    "Szoba": "51",
                                    "Foglalás": "3"
                                },
                                {
                                    "Szoba": "52",
                                    "Foglalás": "5"
                                },
                                {
                                    "Szoba": "54",
                                    "Foglalás": "4"
                                },
                                {
                                    "Szoba": "55",
                                    "Foglalás": "3"
                                },
                                {
                                    "Szoba": "56",
                                    "Foglalás": "1"
                                },
                                {
                                    "Szoba": "57",
                                    "Foglalás": "3"
                                },
                                {
                                    "Szoba": "58",
                                    "Foglalás": "8"
                                },
                                {
                                    "Szoba": "59",
                                    "Foglalás": "4"
                                },
                                {
                                    "Szoba": "60",
                                    "Foglalás": "1"
                                },
                                {
                                    "Szoba": "61",
                                    "Foglalás": "4"
                                },
                                {
                                    "Szoba": "62",
                                    "Foglalás": "3"
                                },
                                {
                                    "Szoba": "63",
                                    "Foglalás": "3"
                                },
                                {
                                    "Szoba": "64",
                                    "Foglalás": "5"
                                },
                                {
                                    "Szoba": "66",
                                    "Foglalás": "3"
                                },
                                {
                                    "Szoba": "67",
                                    "Foglalás": "2"
                                },
                                {
                                    "Szoba": "69",
                                    "Foglalás": "2"
                                },
                                {
                                    "Szoba": "70",
                                    "Foglalás": "8"
                                },
                                {
                                    "Szoba": "71",
                                    "Foglalás": "2"
                                },
                                {
                                    "Szoba": "72",
                                    "Foglalás": "2"
                                },
                                {
                                    "Szoba": "73",
                                    "Foglalás": "4"
                                },
                                {
                                    "Szoba": "74",
                                    "Foglalás": "8"
                                },
                                {
                                    "Szoba": "75",
                                    "Foglalás": "2"
                                },
                                {
                                    "Szoba": "76",
                                    "Foglalás": "2"
                                },
                                {
                                    "Szoba": "77",
                                    "Foglalás": "3"
                                },
                                {
                                    "Szoba": "78",
                                    "Foglalás": "3"
                                },
                                {
                                    "Szoba": "79",
                                    "Foglalás": "4"
                                },
                                {
                                    "Szoba": "80",
                                    "Foglalás": "5"
                                },
                                {
                                    "Szoba": "81",
                                    "Foglalás": "3"
                                },
                                {
                                    "Szoba": "82",
                                    "Foglalás": "5"
                                },
                                {
                                    "Szoba": "83",
                                    "Foglalás": "5"
                                },
                                {
                                    "Szoba": "84",
                                    "Foglalás": "3"
                                },
                                {
                                    "Szoba": "85",
                                    "Foglalás": "2"
                                },
                                {
                                    "Szoba": "86",
                                    "Foglalás": "4"
                                },
                                {
                                    "Szoba": "87",
                                    "Foglalás": "5"
                                },
                                {
                                    "Szoba": "88",
                                    "Foglalás": "5"
                                },
                                {
                                    "Szoba": "89",
                                    "Foglalás": "8"
                                },
                                {
                                    "Szoba": "90",
                                    "Foglalás": "3"
                                },
                                {
                                    "Szoba": "91",
                                    "Foglalás": "2"
                                },
                                {
                                    "Szoba": "92",
                                    "Foglalás": "5"
                                },
                                {
                                    "Szoba": "93",
                                    "Foglalás": "3"
                                },
                                {
                                    "Szoba": "94",
                                    "Foglalás": "6"
                                },
                                {
                                    "Szoba": "95",
                                    "Foglalás": "3"
                                },
                                {
                                    "Szoba": "96",
                                    "Foglalás": "6"
                                },
                                {
                                    "Szoba": "97",
                                    "Foglalás": "5"
                                },
                                {
                                    "Szoba": "98",
                                    "Foglalás": "4"
                                },
                                {
                                    "Szoba": "99",
                                    "Foglalás": "4"
                                },
                                {
                                    "Szoba": "100",
                                    "Foglalás": "2"
                                },
                                {
                                    "Szoba": "101",
                                    "Foglalás": "1"
                                },
                                {
                                    "Szoba": "102",
                                    "Foglalás": "1"
                                },
                                {
                                    "Szoba": "103",
                                    "Foglalás": "1"
                                },
                                {
                                    "Szoba": "104",
                                    "Foglalás": "3"
                                },
                                {
                                    "Szoba": "106",
                                    "Foglalás": "4"
                                },
                                {
                                    "Szoba": "107",
                                    "Foglalás": "4"
                                },
                                {
                                    "Szoba": "108",
                                    "Foglalás": "1"
                                },
                                {
                                    "Szoba": "109",
                                    "Foglalás": "2"
                                },
                                {
                                    "Szoba": "110",
                                    "Foglalás": "5"
                                },
                                {
                                    "Szoba": "111",
                                    "Foglalás": "1"
                                },
                                {
                                    "Szoba": "112",
                                    "Foglalás": "4"
                                },
                                {
                                    "Szoba": "113",
                                    "Foglalás": "2"
                                },
                                {
                                    "Szoba": "114",
                                    "Foglalás": "1"
                                },
                                {
                                    "Szoba": "115",
                                    "Foglalás": "5"
                                },
                                {
                                    "Szoba": "117",
                                    "Foglalás": "4"
                                },
                                {
                                    "Szoba": "118",
                                    "Foglalás": "2"
                                },
                                {
                                    "Szoba": "119",
                                    "Foglalás": "4"
                                },
                                {
                                    "Szoba": "120",
                                    "Foglalás": "2"
                                },
                                {
                                    "Szoba": "121",
                                    "Foglalás": "5"
                                },
                                {
                                    "Szoba": "122",
                                    "Foglalás": "3"
                                },
                                {
                                    "Szoba": "123",
                                    "Foglalás": "5"
                                },
                                {
                                    "Szoba": "124",
                                    "Foglalás": "4"
                                },
                                {
                                    "Szoba": "126",
                                    "Foglalás": "4"
                                },
                                {
                                    "Szoba": "127",
                                    "Foglalás": "5"
                                },
                                {
                                    "Szoba": "129",
                                    "Foglalás": "3"
                                },
                                {
                                    "Szoba": "130",
                                    "Foglalás": "5"
                                },
                                {
                                    "Szoba": "131",
                                    "Foglalás": "4"
                                },
                                {
                                    "Szoba": "132",
                                    "Foglalás": "4"
                                },
                                {
                                    "Szoba": "133",
                                    "Foglalás": "4"
                                },
                                {
                                    "Szoba": "134",
                                    "Foglalás": "4"
                                },
                                {
                                    "Szoba": "135",
                                    "Foglalás": "3"
                                },
                                {
                                    "Szoba": "136",
                                    "Foglalás": "2"
                                },
                                {
                                    "Szoba": "137",
                                    "Foglalás": "2"
                                },
                                {
                                    "Szoba": "138",
                                    "Foglalás": "5"
                                },
                                {
                                    "Szoba": "139",
                                    "Foglalás": "6"
                                },
                                {
                                    "Szoba": "140",
                                    "Foglalás": "5"
                                },
                                {
                                    "Szoba": "141",
                                    "Foglalás": "4"
                                },
                                {
                                    "Szoba": "142",
                                    "Foglalás": "1"
                                },
                                {
                                    "Szoba": "143",
                                    "Foglalás": "5"
                                },
                                {
                                    "Szoba": "144",
                                    "Foglalás": "2"
                                },
                                {
                                    "Szoba": "145",
                                    "Foglalás": "2"
                                },
                                {
                                    "Szoba": "146",
                                    "Foglalás": "3"
                                },
                                {
                                    "Szoba": "147",
                                    "Foglalás": "1"
                                },
                                {
                                    "Szoba": "148",
                                    "Foglalás": "5"
                                },
                                {
                                    "Szoba": "149",
                                    "Foglalás": "5"
                                },
                                {
                                    "Szoba": "150",
                                    "Foglalás": "6"
                                },
                                {
                                    "Szoba": "151",
                                    "Foglalás": "2"
                                },
                                {
                                    "Szoba": "152",
                                    "Foglalás": "3"
                                },
                                {
                                    "Szoba": "153",
                                    "Foglalás": "4"
                                },
                                {
                                    "Szoba": "154",
                                    "Foglalás": "3"
                                },
                                {
                                    "Szoba": "155",
                                    "Foglalás": "3"
                                },
                                {
                                    "Szoba": "156",
                                    "Foglalás": "2"
                                },
                                {
                                    "Szoba": "157",
                                    "Foglalás": "2"
                                },
                                {
                                    "Szoba": "158",
                                    "Foglalás": "3"
                                },
                                {
                                    "Szoba": "160",
                                    "Foglalás": "2"
                                },
                                {
                                    "Szoba": "161",
                                    "Foglalás": "3"
                                },
                                {
                                    "Szoba": "162",
                                    "Foglalás": "2"
                                },
                                {
                                    "Szoba": "163",
                                    "Foglalás": "5"
                                },
                                {
                                    "Szoba": "164",
                                    "Foglalás": "4"
                                },
                                {
                                    "Szoba": "165",
                                    "Foglalás": "5"
                                },
                                {
                                    "Szoba": "166",
                                    "Foglalás": "3"
                                },
                                {
                                    "Szoba": "167",
                                    "Foglalás": "2"
                                },
                                {
                                    "Szoba": "168",
                                    "Foglalás": "1"
                                },
                                {
                                    "Szoba": "169",
                                    "Foglalás": "3"
                                },
                                {
                                    "Szoba": "170",
                                    "Foglalás": "3"
                                },
                                {
                                    "Szoba": "171",
                                    "Foglalás": "5"
                                },
                                {
                                    "Szoba": "172",
                                    "Foglalás": "6"
                                },
                                {
                                    "Szoba": "173",
                                    "Foglalás": "3"
                                },
                                {
                                    "Szoba": "174",
                                    "Foglalás": "4"
                                },
                                {
                                    "Szoba": "175",
                                    "Foglalás": "3"
                                },
                                {
                                    "Szoba": "176",
                                    "Foglalás": "2"
                                },
                                {
                                    "Szoba": "177",
                                    "Foglalás": "1"
                                },
                                {
                                    "Szoba": "178",
                                    "Foglalás": "1"
                                },
                                {
                                    "Szoba": "179",
                                    "Foglalás": "2"
                                },
                                {
                                    "Szoba": "180",
                                    "Foglalás": "1"
                                },
                                {
                                    "Szoba": "181",
                                    "Foglalás": "5"
                                },
                                {
                                    "Szoba": "182",
                                    "Foglalás": "11"
                                },
                                {
                                    "Szoba": "183",
                                    "Foglalás": "3"
                                },
                                {
                                    "Szoba": "184",
                                    "Foglalás": "4"
                                },
                                {
                                    "Szoba": "185",
                                    "Foglalás": "10"
                                },
                                {
                                    "Szoba": "186",
                                    "Foglalás": "1"
                                },
                                {
                                    "Szoba": "187",
                                    "Foglalás": "6"
                                },
                                {
                                    "Szoba": "188",
                                    "Foglalás": "2"
                                },
                                {
                                    "Szoba": "189",
                                    "Foglalás": "1"
                                },
                                {
                                    "Szoba": "190",
                                    "Foglalás": "5"
                                },
                                {
                                    "Szoba": "191",
                                    "Foglalás": "3"
                                },
                                {
                                    "Szoba": "192",
                                    "Foglalás": "1"
                                },
                                {
                                    "Szoba": "193",
                                    "Foglalás": "2"
                                },
                                {
                                    "Szoba": "194",
                                    "Foglalás": "1"
                                },
                                {
                                    "Szoba": "195",
                                    "Foglalás": "5"
                                },
                                {
                                    "Szoba": "196",
                                    "Foglalás": "2"
                                },
                                {
                                    "Szoba": "197",
                                    "Foglalás": "6"
                                },
                                {
                                    "Szoba": "198",
                                    "Foglalás": "7"
                                },
                                {
                                    "Szoba": "Összes foglalás",
                                    "Foglalás": "668"
                                }
                            ]
                        },
                        "text/html": [
                            "<table>",
                            "<tr><th>Szoba</th><th>Foglalás</th></tr>",
                            "<tr><td>1</td><td>7</td></tr>",
                            "<tr><td>2</td><td>2</td></tr>",
                            "<tr><td>3</td><td>3</td></tr>",
                            "<tr><td>4</td><td>5</td></tr>",
                            "<tr><td>5</td><td>2</td></tr>",
                            "<tr><td>6</td><td>5</td></tr>",
                            "<tr><td>7</td><td>6</td></tr>",
                            "<tr><td>8</td><td>5</td></tr>",
                            "<tr><td>9</td><td>4</td></tr>",
                            "<tr><td>10</td><td>4</td></tr>",
                            "<tr><td>11</td><td>4</td></tr>",
                            "<tr><td>12</td><td>7</td></tr>",
                            "<tr><td>13</td><td>4</td></tr>",
                            "<tr><td>14</td><td>3</td></tr>",
                            "<tr><td>15</td><td>4</td></tr>",
                            "<tr><td>16</td><td>1</td></tr>",
                            "<tr><td>17</td><td>2</td></tr>",
                            "<tr><td>18</td><td>3</td></tr>",
                            "<tr><td>19</td><td>4</td></tr>",
                            "<tr><td>20</td><td>5</td></tr>",
                            "<tr><td>21</td><td>1</td></tr>",
                            "<tr><td>22</td><td>2</td></tr>",
                            "<tr><td>23</td><td>3</td></tr>",
                            "<tr><td>24</td><td>3</td></tr>",
                            "<tr><td>25</td><td>1</td></tr>",
                            "<tr><td>27</td><td>5</td></tr>",
                            "<tr><td>28</td><td>5</td></tr>",
                            "<tr><td>29</td><td>3</td></tr>",
                            "<tr><td>30</td><td>2</td></tr>",
                            "<tr><td>31</td><td>1</td></tr>",
                            "<tr><td>32</td><td>1</td></tr>",
                            "<tr><td>33</td><td>3</td></tr>",
                            "<tr><td>34</td><td>3</td></tr>",
                            "<tr><td>35</td><td>6</td></tr>",
                            "<tr><td>36</td><td>4</td></tr>",
                            "<tr><td>37</td><td>2</td></tr>",
                            "<tr><td>38</td><td>5</td></tr>",
                            "<tr><td>39</td><td>4</td></tr>",
                            "<tr><td>40</td><td>3</td></tr>",
                            "<tr><td>41</td><td>1</td></tr>",
                            "<tr><td>42</td><td>5</td></tr>",
                            "<tr><td>43</td><td>4</td></tr>",
                            "<tr><td>44</td><td>6</td></tr>",
                            "<tr><td>45</td><td>4</td></tr>",
                            "<tr><td>46</td><td>3</td></tr>",
                            "<tr><td>47</td><td>2</td></tr>",
                            "<tr><td>48</td><td>6</td></tr>",
                            "<tr><td>49</td><td>5</td></tr>",
                            "<tr><td>50</td><td>3</td></tr>",
                            "<tr><td>51</td><td>3</td></tr>",
                            "<tr><td>52</td><td>5</td></tr>",
                            "<tr><td>54</td><td>4</td></tr>",
                            "<tr><td>55</td><td>3</td></tr>",
                            "<tr><td>56</td><td>1</td></tr>",
                            "<tr><td>57</td><td>3</td></tr>",
                            "<tr><td>58</td><td>8</td></tr>",
                            "<tr><td>59</td><td>4</td></tr>",
                            "<tr><td>60</td><td>1</td></tr>",
                            "<tr><td>61</td><td>4</td></tr>",
                            "<tr><td>62</td><td>3</td></tr>",
                            "<tr><td>63</td><td>3</td></tr>",
                            "<tr><td>64</td><td>5</td></tr>",
                            "<tr><td>66</td><td>3</td></tr>",
                            "<tr><td>67</td><td>2</td></tr>",
                            "<tr><td>69</td><td>2</td></tr>",
                            "<tr><td>70</td><td>8</td></tr>",
                            "<tr><td>71</td><td>2</td></tr>",
                            "<tr><td>72</td><td>2</td></tr>",
                            "<tr><td>73</td><td>4</td></tr>",
                            "<tr><td>74</td><td>8</td></tr>",
                            "<tr><td>75</td><td>2</td></tr>",
                            "<tr><td>76</td><td>2</td></tr>",
                            "<tr><td>77</td><td>3</td></tr>",
                            "<tr><td>78</td><td>3</td></tr>",
                            "<tr><td>79</td><td>4</td></tr>",
                            "<tr><td>80</td><td>5</td></tr>",
                            "<tr><td>81</td><td>3</td></tr>",
                            "<tr><td>82</td><td>5</td></tr>",
                            "<tr><td>83</td><td>5</td></tr>",
                            "<tr><td>84</td><td>3</td></tr>",
                            "<tr><td>85</td><td>2</td></tr>",
                            "<tr><td>86</td><td>4</td></tr>",
                            "<tr><td>87</td><td>5</td></tr>",
                            "<tr><td>88</td><td>5</td></tr>",
                            "<tr><td>89</td><td>8</td></tr>",
                            "<tr><td>90</td><td>3</td></tr>",
                            "<tr><td>91</td><td>2</td></tr>",
                            "<tr><td>92</td><td>5</td></tr>",
                            "<tr><td>93</td><td>3</td></tr>",
                            "<tr><td>94</td><td>6</td></tr>",
                            "<tr><td>95</td><td>3</td></tr>",
                            "<tr><td>96</td><td>6</td></tr>",
                            "<tr><td>97</td><td>5</td></tr>",
                            "<tr><td>98</td><td>4</td></tr>",
                            "<tr><td>99</td><td>4</td></tr>",
                            "<tr><td>100</td><td>2</td></tr>",
                            "<tr><td>101</td><td>1</td></tr>",
                            "<tr><td>102</td><td>1</td></tr>",
                            "<tr><td>103</td><td>1</td></tr>",
                            "<tr><td>104</td><td>3</td></tr>",
                            "<tr><td>106</td><td>4</td></tr>",
                            "<tr><td>107</td><td>4</td></tr>",
                            "<tr><td>108</td><td>1</td></tr>",
                            "<tr><td>109</td><td>2</td></tr>",
                            "<tr><td>110</td><td>5</td></tr>",
                            "<tr><td>111</td><td>1</td></tr>",
                            "<tr><td>112</td><td>4</td></tr>",
                            "<tr><td>113</td><td>2</td></tr>",
                            "<tr><td>114</td><td>1</td></tr>",
                            "<tr><td>115</td><td>5</td></tr>",
                            "<tr><td>117</td><td>4</td></tr>",
                            "<tr><td>118</td><td>2</td></tr>",
                            "<tr><td>119</td><td>4</td></tr>",
                            "<tr><td>120</td><td>2</td></tr>",
                            "<tr><td>121</td><td>5</td></tr>",
                            "<tr><td>122</td><td>3</td></tr>",
                            "<tr><td>123</td><td>5</td></tr>",
                            "<tr><td>124</td><td>4</td></tr>",
                            "<tr><td>126</td><td>4</td></tr>",
                            "<tr><td>127</td><td>5</td></tr>",
                            "<tr><td>129</td><td>3</td></tr>",
                            "<tr><td>130</td><td>5</td></tr>",
                            "<tr><td>131</td><td>4</td></tr>",
                            "<tr><td>132</td><td>4</td></tr>",
                            "<tr><td>133</td><td>4</td></tr>",
                            "<tr><td>134</td><td>4</td></tr>",
                            "<tr><td>135</td><td>3</td></tr>",
                            "<tr><td>136</td><td>2</td></tr>",
                            "<tr><td>137</td><td>2</td></tr>",
                            "<tr><td>138</td><td>5</td></tr>",
                            "<tr><td>139</td><td>6</td></tr>",
                            "<tr><td>140</td><td>5</td></tr>",
                            "<tr><td>141</td><td>4</td></tr>",
                            "<tr><td>142</td><td>1</td></tr>",
                            "<tr><td>143</td><td>5</td></tr>",
                            "<tr><td>144</td><td>2</td></tr>",
                            "<tr><td>145</td><td>2</td></tr>",
                            "<tr><td>146</td><td>3</td></tr>",
                            "<tr><td>147</td><td>1</td></tr>",
                            "<tr><td>148</td><td>5</td></tr>",
                            "<tr><td>149</td><td>5</td></tr>",
                            "<tr><td>150</td><td>6</td></tr>",
                            "<tr><td>151</td><td>2</td></tr>",
                            "<tr><td>152</td><td>3</td></tr>",
                            "<tr><td>153</td><td>4</td></tr>",
                            "<tr><td>154</td><td>3</td></tr>",
                            "<tr><td>155</td><td>3</td></tr>",
                            "<tr><td>156</td><td>2</td></tr>",
                            "<tr><td>157</td><td>2</td></tr>",
                            "<tr><td>158</td><td>3</td></tr>",
                            "<tr><td>160</td><td>2</td></tr>",
                            "<tr><td>161</td><td>3</td></tr>",
                            "<tr><td>162</td><td>2</td></tr>",
                            "<tr><td>163</td><td>5</td></tr>",
                            "<tr><td>164</td><td>4</td></tr>",
                            "<tr><td>165</td><td>5</td></tr>",
                            "<tr><td>166</td><td>3</td></tr>",
                            "<tr><td>167</td><td>2</td></tr>",
                            "<tr><td>168</td><td>1</td></tr>",
                            "<tr><td>169</td><td>3</td></tr>",
                            "<tr><td>170</td><td>3</td></tr>",
                            "<tr><td>171</td><td>5</td></tr>",
                            "<tr><td>172</td><td>6</td></tr>",
                            "<tr><td>173</td><td>3</td></tr>",
                            "<tr><td>174</td><td>4</td></tr>",
                            "<tr><td>175</td><td>3</td></tr>",
                            "<tr><td>176</td><td>2</td></tr>",
                            "<tr><td>177</td><td>1</td></tr>",
                            "<tr><td>178</td><td>1</td></tr>",
                            "<tr><td>179</td><td>2</td></tr>",
                            "<tr><td>180</td><td>1</td></tr>",
                            "<tr><td>181</td><td>5</td></tr>",
                            "<tr><td>182</td><td>11</td></tr>",
                            "<tr><td>183</td><td>3</td></tr>",
                            "<tr><td>184</td><td>4</td></tr>",
                            "<tr><td>185</td><td>10</td></tr>",
                            "<tr><td>186</td><td>1</td></tr>",
                            "<tr><td>187</td><td>6</td></tr>",
                            "<tr><td>188</td><td>2</td></tr>",
                            "<tr><td>189</td><td>1</td></tr>",
                            "<tr><td>190</td><td>5</td></tr>",
                            "<tr><td>191</td><td>3</td></tr>",
                            "<tr><td>192</td><td>1</td></tr>",
                            "<tr><td>193</td><td>2</td></tr>",
                            "<tr><td>194</td><td>1</td></tr>",
                            "<tr><td>195</td><td>5</td></tr>",
                            "<tr><td>196</td><td>2</td></tr>",
                            "<tr><td>197</td><td>6</td></tr>",
                            "<tr><td>198</td><td>7</td></tr>",
                            "<tr><td>Összes foglalás</td><td>668</td></tr>",
                            "</table>"
                        ]
                    }
                }
            ],
            "execution_count": 10
        },
        {
            "cell_type": "code",
            "source": [
                "SELECT NEV as 'Név'\r\n",
                "FROM VENDEG V\r\n",
                "WHERE NOT EXISTS (\r\n",
                "    SELECT * \r\n",
                "    FROM FOGLALAS F\r\n",
                "    WHERE DATEDIFF(DAY, METTOL, MEDDIG) > 2 AND F.UGYFEL_FK = V.USERNEV\r\n",
                ");\r\n",
                "\r\n",
                ""
            ],
            "metadata": {
                "language": "sql",
                "azdata_cell_guid": "a54b0ce5-6e98-4bc2-a0cb-3e7a1a21c2c4"
            },
            "outputs": [
                {
                    "output_type": "display_data",
                    "data": {
                        "text/html": "(9 rows affected)"
                    },
                    "metadata": {}
                },
                {
                    "output_type": "display_data",
                    "data": {
                        "text/html": "Total execution time: 00:00:00.013"
                    },
                    "metadata": {}
                },
                {
                    "output_type": "execute_result",
                    "metadata": {},
                    "execution_count": 15,
                    "data": {
                        "application/vnd.dataresource+json": {
                            "schema": {
                                "fields": [
                                    {
                                        "name": "Név"
                                    }
                                ]
                            },
                            "data": [
                                {
                                    "Név": "Szomor Andrea"
                                },
                                {
                                    "Név": "Szűcs Annamária"
                                },
                                {
                                    "Név": "Szöllősi Gábor"
                                },
                                {
                                    "Név": "Búza Imre"
                                },
                                {
                                    "Név": "Gondos Miklós"
                                },
                                {
                                    "Név": "Bodor Szabolcs"
                                },
                                {
                                    "Név": "Papós Tímea"
                                },
                                {
                                    "Név": "Keresztúri Viktor"
                                },
                                {
                                    "Név": "Molnár Zsófi"
                                }
                            ]
                        },
                        "text/html": [
                            "<table>",
                            "<tr><th>Név</th></tr>",
                            "<tr><td>Szomor Andrea</td></tr>",
                            "<tr><td>Szűcs Annamária</td></tr>",
                            "<tr><td>Szöllősi Gábor</td></tr>",
                            "<tr><td>Búza Imre</td></tr>",
                            "<tr><td>Gondos Miklós</td></tr>",
                            "<tr><td>Bodor Szabolcs</td></tr>",
                            "<tr><td>Papós Tímea</td></tr>",
                            "<tr><td>Keresztúri Viktor</td></tr>",
                            "<tr><td>Molnár Zsófi</td></tr>",
                            "</table>"
                        ]
                    }
                }
            ],
            "execution_count": 15
        }
    ]
}