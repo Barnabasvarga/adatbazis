{
    "metadata": {
        "kernelspec": {
            "name": "SQL",
            "display_name": "SQL",
            "language": "sql"
        },
        "language_info": {
            "name": "sql",
            "version": ""
        }
    },
    "nbformat_minor": 2,
    "nbformat": 4,
    "cells": [
        {
            "cell_type": "code",
            "source": [
                "SELECT USERNEV, NEV\r\n",
                "    UPPER(concat(LEFT(Nev,1),(Right(Nev;1)))) as 'Monogram'\r\n",
                "from vendeg\r\n",
                "\r\n",
                "\r\n",
                "WHERE EMAIL LIKE  '%.hu'"
            ],
            "metadata": {
                "azdata_cell_guid": "75e2665a-95c7-4129-a040-20b44d31e285",
                "language": "sql"
            },
            "outputs": [
                {
                    "output_type": "error",
                    "evalue": "Msg 102, Level 15, State 1, Line 2\r\nIncorrect syntax near 'concat'.",
                    "ename": "",
                    "traceback": []
                },
                {
                    "output_type": "display_data",
                    "data": {
                        "text/html": "Total execution time: 00:00:00.003"
                    },
                    "metadata": {}
                }
            ],
            "execution_count": 5
        },
        {
            "cell_type": "code",
            "source": [
                "SELECT szallas_id, szallas_nev, hely,\r\n",
                "    DATEDIFF(day,ROGZ_IDO,GETDATE())\r\n",
                "from szallashely\r\n",
                "WHERE TIPUS <> 'panzió' and  TIPUS <> 'vendégház'\r\n",
                ""
            ],
            "metadata": {
                "azdata_cell_guid": "9d41ddfa-3c77-475a-9681-15f7cba77631",
                "language": "sql"
            },
            "outputs": [
                {
                    "output_type": "display_data",
                    "data": {
                        "text/html": "(10 rows affected)"
                    },
                    "metadata": {}
                },
                {
                    "output_type": "display_data",
                    "data": {
                        "text/html": "Total execution time: 00:00:00.047"
                    },
                    "metadata": {}
                },
                {
                    "output_type": "execute_result",
                    "metadata": {},
                    "execution_count": 6,
                    "data": {
                        "application/vnd.dataresource+json": {
                            "schema": {
                                "fields": [
                                    {
                                        "name": "szallas_id"
                                    },
                                    {
                                        "name": "szallas_nev"
                                    },
                                    {
                                        "name": "hely"
                                    },
                                    {
                                        "name": "(No column name)"
                                    }
                                ]
                            },
                            "data": [
                                {
                                    "szallas_id": "3",
                                    "szallas_nev": "Fortuna Apartman",
                                    "hely": "Hajdúbihar megye",
                                    "(No column name)": "3280"
                                },
                                {
                                    "szallas_id": "6",
                                    "szallas_nev": "Kentaur Hotel",
                                    "hely": "Balaton-dél",
                                    "(No column name)": "3278"
                                },
                                {
                                    "szallas_id": "7",
                                    "szallas_nev": "Szieszta Apartmanház",
                                    "hely": "Balaton-dél",
                                    "(No column name)": "3275"
                                },
                                {
                                    "szallas_id": "8",
                                    "szallas_nev": "Hotel Három Hattyú",
                                    "hely": "Balaton-dél",
                                    "(No column name)": "3273"
                                },
                                {
                                    "szallas_id": "10",
                                    "szallas_nev": "Lagúna Hotel",
                                    "hely": "Budapest",
                                    "(No column name)": "3266"
                                },
                                {
                                    "szallas_id": "12",
                                    "szallas_nev": "Gold Hotel",
                                    "hely": "Budapest",
                                    "(No column name)": "3262"
                                },
                                {
                                    "szallas_id": "16",
                                    "szallas_nev": "Bagoly Hotel",
                                    "hely": "Pest megye",
                                    "(No column name)": "3254"
                                },
                                {
                                    "szallas_id": "17",
                                    "szallas_nev": "Szarvas Hotel",
                                    "hely": "Tolna megye",
                                    "(No column name)": "3251"
                                },
                                {
                                    "szallas_id": "18",
                                    "szallas_nev": "Fortuna Apartman",
                                    "hely": "Dél-Somogy",
                                    "(No column name)": "3248"
                                },
                                {
                                    "szallas_id": "20",
                                    "szallas_nev": "Kollégium",
                                    "hely": "Budapest",
                                    "(No column name)": "3248"
                                }
                            ]
                        },
                        "text/html": [
                            "<table>",
                            "<tr><th>szallas_id</th><th>szallas_nev</th><th>hely</th><th>(No column name)</th></tr>",
                            "<tr><td>3</td><td>Fortuna Apartman</td><td>Hajdúbihar megye</td><td>3280</td></tr>",
                            "<tr><td>6</td><td>Kentaur Hotel</td><td>Balaton-dél</td><td>3278</td></tr>",
                            "<tr><td>7</td><td>Szieszta Apartmanház</td><td>Balaton-dél</td><td>3275</td></tr>",
                            "<tr><td>8</td><td>Hotel Három Hattyú</td><td>Balaton-dél</td><td>3273</td></tr>",
                            "<tr><td>10</td><td>Lagúna Hotel</td><td>Budapest</td><td>3266</td></tr>",
                            "<tr><td>12</td><td>Gold Hotel</td><td>Budapest</td><td>3262</td></tr>",
                            "<tr><td>16</td><td>Bagoly Hotel</td><td>Pest megye</td><td>3254</td></tr>",
                            "<tr><td>17</td><td>Szarvas Hotel</td><td>Tolna megye</td><td>3251</td></tr>",
                            "<tr><td>18</td><td>Fortuna Apartman</td><td>Dél-Somogy</td><td>3248</td></tr>",
                            "<tr><td>20</td><td>Kollégium</td><td>Budapest</td><td>3248</td></tr>",
                            "</table>"
                        ]
                    }
                }
            ],
            "execution_count": 6
        },
        {
            "cell_type": "code",
            "source": [
                ""
            ],
            "metadata": {
                "azdata_cell_guid": "9555a314-353e-470e-9296-1549742861ff",
                "language": "sql"
            },
            "outputs": [],
            "execution_count": null
        }
    ]
}