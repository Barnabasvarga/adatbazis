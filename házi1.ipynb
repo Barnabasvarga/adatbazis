{
    "metadata": {
        "kernelspec": {
            "name": "SQL",
            "display_name": "SQL",
            "language": "sql"
        },
        "language_info": {
            "name": "sql",
            "version": ""
        }
    },
    "nbformat_minor": 2,
    "nbformat": 4,
    "cells": [
        {
            "cell_type": "code",
            "source": [
                "SELECT \r\n",
                "    MIN(REND_DATUM) AS Legkorábbi_Rendelés,MAX(REND_DATUM) AS Legkésőbbi_Rendelés,MIN(SZALL_DATUM) AS Legkorábbi_Szállítás,\r\n",
                "    MAX(SZALL_DATUM) AS Legkésőbbi_Szállítás,AVG(DATEDIFF(DAY, REND_DATUM, SZALL_DATUM)) AS Átlagos_Szállítási_Idő\r\n",
                "FROM dbo.Rendeles;\r\n",
                ""
            ],
            "metadata": {
                "azdata_cell_guid": "1d111d2f-52cb-4fbb-97cb-a4de2be70853",
                "language": "sql"
            },
            "outputs": [
                {
                    "output_type": "display_data",
                    "data": {
                        "text/html": "(1 row affected)"
                    },
                    "metadata": {}
                },
                {
                    "output_type": "display_data",
                    "data": {
                        "text/html": "Total execution time: 00:00:00.027"
                    },
                    "metadata": {}
                },
                {
                    "output_type": "execute_result",
                    "execution_count": 48,
                    "data": {
                        "application/vnd.dataresource+json": {
                            "schema": {
                                "fields": [
                                    {
                                        "name": "Legkorábbi_Rendelés"
                                    },
                                    {
                                        "name": "Legkésőbbi_Rendelés"
                                    },
                                    {
                                        "name": "Legkorábbi_Szállítás"
                                    },
                                    {
                                        "name": "Legkésőbbi_Szállítás"
                                    },
                                    {
                                        "name": "Átlagos_Szállítási_Idő"
                                    }
                                ]
                            },
                            "data": [
                                {
                                    "Legkorábbi_Rendelés": "2015-05-01",
                                    "Legkésőbbi_Rendelés": "2017-04-01",
                                    "Legkorábbi_Szállítás": "2015-05-03",
                                    "Legkésőbbi_Szállítás": "2017-04-11",
                                    "Átlagos_Szállítási_Idő": "5"
                                }
                            ]
                        },
                        "text/html": "<table><tr><th>Legkorábbi_Rendelés</th><th>Legkésőbbi_Rendelés</th><th>Legkorábbi_Szállítás</th><th>Legkésőbbi_Szállítás</th><th>Átlagos_Szállítási_Idő</th></tr><tr><td>2015-05-01</td><td>2017-04-01</td><td>2015-05-03</td><td>2017-04-11</td><td>5</td></tr></table>"
                    },
                    "metadata": {}
                }
            ],
            "execution_count": 48
        },
        {
            "cell_type": "code",
            "source": [
                "SELECT --Fizetési módok aránya\r\n",
                "    FIZ_MOD AS 'Fizetési_Mód',                \r\n",
                "    COUNT(*) AS RendelésSzám,\r\n",
                "    COUNT(*) * 100 / (SELECT COUNT(*) FROM dbo.Rendeles) AS '%'\r\n",
                "FROM dbo.Rendeles\r\n",
                "GROUP BY FIZ_MOD;\r\n",
                ""
            ],
            "metadata": {
                "azdata_cell_guid": "a34c2c76-b429-496e-9ae0-8e2c6075d029",
                "language": "sql",
                "tags": []
            },
            "outputs": [
                {
                    "output_type": "display_data",
                    "data": {
                        "text/html": "(3 rows affected)"
                    },
                    "metadata": {}
                },
                {
                    "output_type": "display_data",
                    "data": {
                        "text/html": "Total execution time: 00:00:00.038"
                    },
                    "metadata": {}
                },
                {
                    "output_type": "execute_result",
                    "execution_count": 74,
                    "data": {
                        "application/vnd.dataresource+json": {
                            "schema": {
                                "fields": [
                                    {
                                        "name": "Fizetési_Mód"
                                    },
                                    {
                                        "name": "RendelésSzám"
                                    },
                                    {
                                        "name": "%"
                                    }
                                ]
                            },
                            "data": [
                                {
                                    "Fizetési_Mód": "Bankkártya",
                                    "RendelésSzám": "14003",
                                    "%": "49"
                                },
                                {
                                    "Fizetési_Mód": "Átutalás",
                                    "RendelésSzám": "11284",
                                    "%": "40"
                                },
                                {
                                    "Fizetési_Mód": "Készpénz",
                                    "RendelésSzám": "2798",
                                    "%": "9"
                                }
                            ]
                        },
                        "text/html": "<table><tr><th>Fizetési_Mód</th><th>RendelésSzám</th><th>%</th></tr><tr><td>Bankkártya</td><td>14003</td><td>49</td></tr><tr><td>Átutalás</td><td>11284</td><td>40</td></tr><tr><td>Készpénz</td><td>2798</td><td>9</td></tr></table>"
                    },
                    "metadata": {}
                }
            ],
            "execution_count": 74
        },
        {
            "cell_type": "code",
            "source": [
                "SELECT --Rendelések eloszlása hónaponként\r\n",
                "    YEAR(REND_DATUM) AS Év,\r\n",
                "    MONTH(REND_DATUM) AS Hónap,\r\n",
                "    COUNT(*) AS RendelésSzám\r\n",
                "FROM dbo.Rendeles\r\n",
                "GROUP BY YEAR(REND_DATUM), MONTH(REND_DATUM)\r\n",
                "ORDER BY Év, Hónap;"
            ],
            "metadata": {
                "azdata_cell_guid": "10dd57fa-4c5c-44f7-8b31-9e4f01821fb5",
                "language": "sql"
            },
            "outputs": [
                {
                    "output_type": "display_data",
                    "data": {
                        "text/html": "(24 rows affected)"
                    },
                    "metadata": {}
                },
                {
                    "output_type": "display_data",
                    "data": {
                        "text/html": "Total execution time: 00:00:00.026"
                    },
                    "metadata": {}
                },
                {
                    "output_type": "execute_result",
                    "execution_count": 27,
                    "data": {
                        "application/vnd.dataresource+json": {
                            "schema": {
                                "fields": [
                                    {
                                        "name": "Év"
                                    },
                                    {
                                        "name": "Hónap"
                                    },
                                    {
                                        "name": "RendelésSzám"
                                    }
                                ]
                            },
                            "data": [
                                {
                                    "Év": "2015",
                                    "Hónap": "5",
                                    "RendelésSzám": "1203"
                                },
                                {
                                    "Év": "2015",
                                    "Hónap": "6",
                                    "RendelésSzám": "1155"
                                },
                                {
                                    "Év": "2015",
                                    "Hónap": "7",
                                    "RendelésSzám": "1235"
                                },
                                {
                                    "Év": "2015",
                                    "Hónap": "8",
                                    "RendelésSzám": "1276"
                                },
                                {
                                    "Év": "2015",
                                    "Hónap": "9",
                                    "RendelésSzám": "1207"
                                },
                                {
                                    "Év": "2015",
                                    "Hónap": "10",
                                    "RendelésSzám": "1233"
                                },
                                {
                                    "Év": "2015",
                                    "Hónap": "11",
                                    "RendelésSzám": "1178"
                                },
                                {
                                    "Év": "2015",
                                    "Hónap": "12",
                                    "RendelésSzám": "1260"
                                },
                                {
                                    "Év": "2016",
                                    "Hónap": "1",
                                    "RendelésSzám": "1226"
                                },
                                {
                                    "Év": "2016",
                                    "Hónap": "2",
                                    "RendelésSzám": "1193"
                                },
                                {
                                    "Év": "2016",
                                    "Hónap": "3",
                                    "RendelésSzám": "1274"
                                },
                                {
                                    "Év": "2016",
                                    "Hónap": "4",
                                    "RendelésSzám": "1259"
                                },
                                {
                                    "Év": "2016",
                                    "Hónap": "5",
                                    "RendelésSzám": "1218"
                                },
                                {
                                    "Év": "2016",
                                    "Hónap": "6",
                                    "RendelésSzám": "1214"
                                },
                                {
                                    "Év": "2016",
                                    "Hónap": "7",
                                    "RendelésSzám": "1209"
                                },
                                {
                                    "Év": "2016",
                                    "Hónap": "8",
                                    "RendelésSzám": "1274"
                                },
                                {
                                    "Év": "2016",
                                    "Hónap": "9",
                                    "RendelésSzám": "1192"
                                },
                                {
                                    "Év": "2016",
                                    "Hónap": "10",
                                    "RendelésSzám": "1277"
                                },
                                {
                                    "Év": "2016",
                                    "Hónap": "11",
                                    "RendelésSzám": "1210"
                                },
                                {
                                    "Év": "2016",
                                    "Hónap": "12",
                                    "RendelésSzám": "1227"
                                },
                                {
                                    "Év": "2017",
                                    "Hónap": "1",
                                    "RendelésSzám": "1204"
                                },
                                {
                                    "Év": "2017",
                                    "Hónap": "2",
                                    "RendelésSzám": "1081"
                                },
                                {
                                    "Év": "2017",
                                    "Hónap": "3",
                                    "RendelésSzám": "1242"
                                },
                                {
                                    "Év": "2017",
                                    "Hónap": "4",
                                    "RendelésSzám": "38"
                                }
                            ]
                        },
                        "text/html": "<table><tr><th>Év</th><th>Hónap</th><th>RendelésSzám</th></tr><tr><td>2015</td><td>5</td><td>1203</td></tr><tr><td>2015</td><td>6</td><td>1155</td></tr><tr><td>2015</td><td>7</td><td>1235</td></tr><tr><td>2015</td><td>8</td><td>1276</td></tr><tr><td>2015</td><td>9</td><td>1207</td></tr><tr><td>2015</td><td>10</td><td>1233</td></tr><tr><td>2015</td><td>11</td><td>1178</td></tr><tr><td>2015</td><td>12</td><td>1260</td></tr><tr><td>2016</td><td>1</td><td>1226</td></tr><tr><td>2016</td><td>2</td><td>1193</td></tr><tr><td>2016</td><td>3</td><td>1274</td></tr><tr><td>2016</td><td>4</td><td>1259</td></tr><tr><td>2016</td><td>5</td><td>1218</td></tr><tr><td>2016</td><td>6</td><td>1214</td></tr><tr><td>2016</td><td>7</td><td>1209</td></tr><tr><td>2016</td><td>8</td><td>1274</td></tr><tr><td>2016</td><td>9</td><td>1192</td></tr><tr><td>2016</td><td>10</td><td>1277</td></tr><tr><td>2016</td><td>11</td><td>1210</td></tr><tr><td>2016</td><td>12</td><td>1227</td></tr><tr><td>2017</td><td>1</td><td>1204</td></tr><tr><td>2017</td><td>2</td><td>1081</td></tr><tr><td>2017</td><td>3</td><td>1242</td></tr><tr><td>2017</td><td>4</td><td>38</td></tr></table>"
                    },
                    "metadata": {}
                }
            ],
            "execution_count": 27
        },
        {
            "cell_type": "code",
            "source": [
                "SELECT --Szállítási módok aránya\r\n",
                "    SZALL_MOD AS 'Szállítási_Mód',\r\n",
                "    COUNT(*) AS RendelésSzám,\r\n",
                "    COUNT(*) * 100 / (SELECT COUNT(*) FROM dbo.Rendeles) AS '%'\r\n",
                "FROM dbo.Rendeles\r\n",
                "GROUP BY SZALL_MOD\r\n",
                "ORDER BY RendelésSzám DESC;\r\n",
                "\r\n",
                ""
            ],
            "metadata": {
                "azdata_cell_guid": "aa419e13-e144-430c-b79e-5803d73671e6",
                "language": "sql"
            },
            "outputs": [
                {
                    "output_type": "display_data",
                    "data": {
                        "text/html": "(3 rows affected)"
                    },
                    "metadata": {}
                },
                {
                    "output_type": "display_data",
                    "data": {
                        "text/html": "Total execution time: 00:00:00.036"
                    },
                    "metadata": {}
                },
                {
                    "output_type": "execute_result",
                    "execution_count": 75,
                    "data": {
                        "application/vnd.dataresource+json": {
                            "schema": {
                                "fields": [
                                    {
                                        "name": "Szállítási_Mód"
                                    },
                                    {
                                        "name": "RendelésSzám"
                                    },
                                    {
                                        "name": "%"
                                    }
                                ]
                            },
                            "data": [
                                {
                                    "Szállítási_Mód": "Személyes átvétel",
                                    "RendelésSzám": "9468",
                                    "%": "33"
                                },
                                {
                                    "Szállítási_Mód": "GLS",
                                    "RendelésSzám": "9426",
                                    "%": "33"
                                },
                                {
                                    "Szállítási_Mód": "Posta",
                                    "RendelésSzám": "9191",
                                    "%": "32"
                                }
                            ]
                        },
                        "text/html": "<table><tr><th>Szállítási_Mód</th><th>RendelésSzám</th><th>%</th></tr><tr><td>Személyes átvétel</td><td>9468</td><td>33</td></tr><tr><td>GLS</td><td>9426</td><td>33</td></tr><tr><td>Posta</td><td>9191</td><td>32</td></tr></table>"
                    },
                    "metadata": {}
                }
            ],
            "execution_count": 75
        },
        {
            "cell_type": "code",
            "source": [
                "SELECT --Ügyfelek első és utolsó rendelése\r\n",
                "    R.LOGIN AS Login,\r\n",
                "    MIN(R.REND_DATUM) AS Első_Rendelés,\r\n",
                "    MAX(R.REND_DATUM) AS Utolsó_Rendelés\r\n",
                "FROM dbo.Rendeles AS R\r\n",
                "GROUP BY R.LOGIN\r\n",
                "ORDER BY Utolsó_Rendelés DESC;\r\n",
                "\r\n",
                ""
            ],
            "metadata": {
                "azdata_cell_guid": "154ced2c-8910-42d1-b828-aa1fe3540f80",
                "language": "sql"
            },
            "outputs": [
                {
                    "output_type": "display_data",
                    "data": {
                        "text/html": "(191 rows affected)"
                    },
                    "metadata": {}
                },
                {
                    "output_type": "display_data",
                    "data": {
                        "text/html": "Total execution time: 00:00:00.036"
                    },
                    "metadata": {}
                },
                {
                    "output_type": "execute_result",
                    "execution_count": 57,
                    "data": {
                        "application/vnd.dataresource+json": {
                            "schema": {
                                "fields": [
                                    {
                                        "name": "Login"
                                    },
                                    {
                                        "name": "Első_Rendelés"
                                    },
                                    {
                                        "name": "Utolsó_Rendelés"
                                    }
                                ]
                            },
                            "data": [
                                {
                                    "Login": "BERNADETTO",
                                    "Első_Rendelés": "2015-05-02",
                                    "Utolsó_Rendelés": "2017-04-01"
                                },
                                {
                                    "Login": "JUDITH",
                                    "Első_Rendelés": "2015-05-01",
                                    "Utolsó_Rendelés": "2017-04-01"
                                },
                                {
                                    "Login": "adam3",
                                    "Első_Rendelés": "2015-05-04",
                                    "Utolsó_Rendelés": "2017-04-01"
                                },
                                {
                                    "Login": "daniel",
                                    "Első_Rendelés": "2015-05-12",
                                    "Utolsó_Rendelés": "2017-04-01"
                                },
                                {
                                    "Login": "julianna4",
                                    "Első_Rendelés": "2015-05-01",
                                    "Utolsó_Rendelés": "2017-04-01"
                                },
                                {
                                    "Login": "ATTILAO",
                                    "Első_Rendelés": "2015-05-01",
                                    "Utolsó_Rendelés": "2017-04-01"
                                },
                                {
                                    "Login": "andrea3",
                                    "Első_Rendelés": "2015-06-12",
                                    "Utolsó_Rendelés": "2017-04-01"
                                },
                                {
                                    "Login": "sebestyen",
                                    "Első_Rendelés": "2015-05-06",
                                    "Utolsó_Rendelés": "2017-04-01"
                                },
                                {
                                    "Login": "csongor3",
                                    "Első_Rendelés": "2015-05-08",
                                    "Utolsó_Rendelés": "2017-04-01"
                                },
                                {
                                    "Login": "andras4",
                                    "Első_Rendelés": "2015-05-18",
                                    "Utolsó_Rendelés": "2017-04-01"
                                },
                                {
                                    "Login": "AGNESH",
                                    "Első_Rendelés": "2015-05-08",
                                    "Utolsó_Rendelés": "2017-04-01"
                                },
                                {
                                    "Login": "bence",
                                    "Első_Rendelés": "2015-05-08",
                                    "Utolsó_Rendelés": "2017-04-01"
                                },
                                {
                                    "Login": "dora3",
                                    "Első_Rendelés": "2015-05-03",
                                    "Utolsó_Rendelés": "2017-04-01"
                                },
                                {
                                    "Login": "szabolcs",
                                    "Első_Rendelés": "2015-05-05",
                                    "Utolsó_Rendelés": "2017-04-01"
                                },
                                {
                                    "Login": "zsofi1",
                                    "Első_Rendelés": "2015-05-12",
                                    "Utolsó_Rendelés": "2017-04-01"
                                },
                                {
                                    "Login": "BELAF",
                                    "Első_Rendelés": "2015-05-01",
                                    "Utolsó_Rendelés": "2017-04-01"
                                },
                                {
                                    "Login": "rajmond4",
                                    "Első_Rendelés": "2015-05-12",
                                    "Utolsó_Rendelés": "2017-04-01"
                                },
                                {
                                    "Login": "katalin",
                                    "Első_Rendelés": "2015-05-01",
                                    "Utolsó_Rendelés": "2017-04-01"
                                },
                                {
                                    "Login": "eszter2",
                                    "Első_Rendelés": "2015-05-06",
                                    "Utolsó_Rendelés": "2017-04-01"
                                },
                                {
                                    "Login": "ilona3",
                                    "Első_Rendelés": "2015-05-04",
                                    "Utolsó_Rendelés": "2017-04-01"
                                },
                                {
                                    "Login": "aron2",
                                    "Első_Rendelés": "2015-05-04",
                                    "Utolsó_Rendelés": "2017-04-01"
                                },
                                {
                                    "Login": "PETERB",
                                    "Első_Rendelés": "2015-05-05",
                                    "Utolsó_Rendelés": "2017-04-01"
                                },
                                {
                                    "Login": "timea2",
                                    "Első_Rendelés": "2015-05-03",
                                    "Utolsó_Rendelés": "2017-04-01"
                                },
                                {
                                    "Login": "david1",
                                    "Első_Rendelés": "2015-05-16",
                                    "Utolsó_Rendelés": "2017-04-01"
                                },
                                {
                                    "Login": "zsuzsanna",
                                    "Első_Rendelés": "2015-05-05",
                                    "Utolsó_Rendelés": "2017-04-01"
                                },
                                {
                                    "Login": "ARPADH",
                                    "Első_Rendelés": "2015-05-02",
                                    "Utolsó_Rendelés": "2017-04-01"
                                },
                                {
                                    "Login": "andrea",
                                    "Első_Rendelés": "2015-05-02",
                                    "Utolsó_Rendelés": "2017-04-01"
                                },
                                {
                                    "Login": "daniel1",
                                    "Első_Rendelés": "2015-05-02",
                                    "Utolsó_Rendelés": "2017-04-01"
                                },
                                {
                                    "Login": "timea",
                                    "Első_Rendelés": "2015-05-03",
                                    "Utolsó_Rendelés": "2017-04-01"
                                },
                                {
                                    "Login": "LASZLON",
                                    "Első_Rendelés": "2015-05-02",
                                    "Utolsó_Rendelés": "2017-04-01"
                                },
                                {
                                    "Login": "gabriella1",
                                    "Első_Rendelés": "2015-05-14",
                                    "Utolsó_Rendelés": "2017-04-01"
                                },
                                {
                                    "Login": "brigitta3",
                                    "Első_Rendelés": "2015-05-02",
                                    "Utolsó_Rendelés": "2017-04-01"
                                },
                                {
                                    "Login": "SEBASTIANF",
                                    "Első_Rendelés": "2015-05-07",
                                    "Utolsó_Rendelés": "2017-04-01"
                                },
                                {
                                    "Login": "debora",
                                    "Első_Rendelés": "2015-05-10",
                                    "Utolsó_Rendelés": "2017-04-01"
                                },
                                {
                                    "Login": "tamara2",
                                    "Első_Rendelés": "2015-05-06",
                                    "Utolsó_Rendelés": "2017-04-01"
                                },
                                {
                                    "Login": "BEATRIXS",
                                    "Első_Rendelés": "2015-05-02",
                                    "Utolsó_Rendelés": "2017-04-01"
                                },
                                {
                                    "Login": "KRISZTINAG",
                                    "Első_Rendelés": "2015-05-03",
                                    "Utolsó_Rendelés": "2017-03-31"
                                },
                                {
                                    "Login": "MARKH",
                                    "Első_Rendelés": "2015-05-17",
                                    "Utolsó_Rendelés": "2017-03-31"
                                },
                                {
                                    "Login": "ferenc1",
                                    "Első_Rendelés": "2015-05-12",
                                    "Utolsó_Rendelés": "2017-03-31"
                                },
                                {
                                    "Login": "anett3",
                                    "Első_Rendelés": "2015-05-02",
                                    "Utolsó_Rendelés": "2017-03-31"
                                },
                                {
                                    "Login": "klaudia2",
                                    "Első_Rendelés": "2015-05-13",
                                    "Utolsó_Rendelés": "2017-03-31"
                                },
                                {
                                    "Login": "agnes3",
                                    "Első_Rendelés": "2015-05-05",
                                    "Utolsó_Rendelés": "2017-03-31"
                                },
                                {
                                    "Login": "andras3",
                                    "Első_Rendelés": "2015-05-07",
                                    "Utolsó_Rendelés": "2017-03-31"
                                },
                                {
                                    "Login": "SZABOLCSM",
                                    "Első_Rendelés": "2015-05-01",
                                    "Utolsó_Rendelés": "2017-03-31"
                                },
                                {
                                    "Login": "sara",
                                    "Első_Rendelés": "2015-05-05",
                                    "Utolsó_Rendelés": "2017-03-31"
                                },
                                {
                                    "Login": "balazs2",
                                    "Első_Rendelés": "2015-05-01",
                                    "Utolsó_Rendelés": "2017-03-31"
                                },
                                {
                                    "Login": "istvan",
                                    "Első_Rendelés": "2015-05-09",
                                    "Utolsó_Rendelés": "2017-03-31"
                                },
                                {
                                    "Login": "eszter4",
                                    "Első_Rendelés": "2015-05-14",
                                    "Utolsó_Rendelés": "2017-03-31"
                                },
                                {
                                    "Login": "bernadett2",
                                    "Első_Rendelés": "2015-05-03",
                                    "Utolsó_Rendelés": "2017-03-31"
                                },
                                {
                                    "Login": "attila1",
                                    "Első_Rendelés": "2015-05-02",
                                    "Utolsó_Rendelés": "2017-03-31"
                                },
                                {
                                    "Login": "balazs1",
                                    "Első_Rendelés": "2015-05-17",
                                    "Utolsó_Rendelés": "2017-03-31"
                                },
                                {
                                    "Login": "gabor4",
                                    "Első_Rendelés": "2015-05-04",
                                    "Utolsó_Rendelés": "2017-03-31"
                                },
                                {
                                    "Login": "veronika4",
                                    "Első_Rendelés": "2015-05-01",
                                    "Utolsó_Rendelés": "2017-03-31"
                                },
                                {
                                    "Login": "norbert2",
                                    "Első_Rendelés": "2015-05-01",
                                    "Utolsó_Rendelés": "2017-03-31"
                                },
                                {
                                    "Login": "balint1",
                                    "Első_Rendelés": "2015-05-01",
                                    "Utolsó_Rendelés": "2017-03-31"
                                },
                                {
                                    "Login": "robert2",
                                    "Első_Rendelés": "2015-05-03",
                                    "Utolsó_Rendelés": "2017-03-31"
                                },
                                {
                                    "Login": "EVAV",
                                    "Első_Rendelés": "2015-05-14",
                                    "Utolsó_Rendelés": "2017-03-31"
                                },
                                {
                                    "Login": "kriszti",
                                    "Első_Rendelés": "2015-05-01",
                                    "Utolsó_Rendelés": "2017-03-31"
                                },
                                {
                                    "Login": "dani",
                                    "Első_Rendelés": "2015-05-04",
                                    "Utolsó_Rendelés": "2017-03-31"
                                },
                                {
                                    "Login": "alexandra",
                                    "Első_Rendelés": "2015-05-06",
                                    "Utolsó_Rendelés": "2017-03-31"
                                },
                                {
                                    "Login": "peter1",
                                    "Első_Rendelés": "2015-05-08",
                                    "Utolsó_Rendelés": "2017-03-31"
                                },
                                {
                                    "Login": "peter4",
                                    "Első_Rendelés": "2015-05-02",
                                    "Utolsó_Rendelés": "2017-03-31"
                                },
                                {
                                    "Login": "tamas",
                                    "Első_Rendelés": "2015-05-05",
                                    "Utolsó_Rendelés": "2017-03-31"
                                },
                                {
                                    "Login": "JANOSP",
                                    "Első_Rendelés": "2015-05-06",
                                    "Utolsó_Rendelés": "2017-03-31"
                                },
                                {
                                    "Login": "ZSOLTJ",
                                    "Első_Rendelés": "2015-05-01",
                                    "Utolsó_Rendelés": "2017-03-31"
                                },
                                {
                                    "Login": "ROBERTP",
                                    "Első_Rendelés": "2015-05-05",
                                    "Utolsó_Rendelés": "2017-03-31"
                                },
                                {
                                    "Login": "laszlo2",
                                    "Első_Rendelés": "2015-05-01",
                                    "Utolsó_Rendelés": "2017-03-31"
                                },
                                {
                                    "Login": "aladar",
                                    "Első_Rendelés": "2015-05-04",
                                    "Utolsó_Rendelés": "2017-03-31"
                                },
                                {
                                    "Login": "david4",
                                    "Első_Rendelés": "2015-05-04",
                                    "Utolsó_Rendelés": "2017-03-30"
                                },
                                {
                                    "Login": "arpad2",
                                    "Első_Rendelés": "2015-05-08",
                                    "Utolsó_Rendelés": "2017-03-30"
                                },
                                {
                                    "Login": "fruzsina4",
                                    "Első_Rendelés": "2015-05-08",
                                    "Utolsó_Rendelés": "2017-03-30"
                                },
                                {
                                    "Login": "akos",
                                    "Első_Rendelés": "2015-05-16",
                                    "Utolsó_Rendelés": "2017-03-30"
                                },
                                {
                                    "Login": "adam4",
                                    "Első_Rendelés": "2015-05-02",
                                    "Utolsó_Rendelés": "2017-03-30"
                                },
                                {
                                    "Login": "ARONK",
                                    "Első_Rendelés": "2015-05-02",
                                    "Utolsó_Rendelés": "2017-03-30"
                                },
                                {
                                    "Login": "RENATAK",
                                    "Első_Rendelés": "2015-05-02",
                                    "Utolsó_Rendelés": "2017-03-30"
                                },
                                {
                                    "Login": "RENATAS",
                                    "Első_Rendelés": "2015-05-05",
                                    "Utolsó_Rendelés": "2017-03-30"
                                },
                                {
                                    "Login": "GYONGYIK",
                                    "Első_Rendelés": "2015-05-11",
                                    "Utolsó_Rendelés": "2017-03-30"
                                },
                                {
                                    "Login": "attila4",
                                    "Első_Rendelés": "2015-05-02",
                                    "Utolsó_Rendelés": "2017-03-30"
                                },
                                {
                                    "Login": "roland",
                                    "Első_Rendelés": "2015-05-13",
                                    "Utolsó_Rendelés": "2017-03-30"
                                },
                                {
                                    "Login": "zsuzsa3",
                                    "Első_Rendelés": "2015-05-08",
                                    "Utolsó_Rendelés": "2017-03-30"
                                },
                                {
                                    "Login": "MATEK",
                                    "Első_Rendelés": "2015-05-05",
                                    "Utolsó_Rendelés": "2017-03-30"
                                },
                                {
                                    "Login": "marton",
                                    "Első_Rendelés": "2015-05-02",
                                    "Utolsó_Rendelés": "2017-03-30"
                                },
                                {
                                    "Login": "andrea4",
                                    "Első_Rendelés": "2015-05-01",
                                    "Utolsó_Rendelés": "2017-03-30"
                                },
                                {
                                    "Login": "NANDORF",
                                    "Első_Rendelés": "2015-05-11",
                                    "Utolsó_Rendelés": "2017-03-30"
                                },
                                {
                                    "Login": "annamaria1",
                                    "Első_Rendelés": "2015-05-03",
                                    "Utolsó_Rendelés": "2017-03-30"
                                },
                                {
                                    "Login": "istvan1",
                                    "Első_Rendelés": "2015-05-08",
                                    "Utolsó_Rendelés": "2017-03-30"
                                },
                                {
                                    "Login": "julia4",
                                    "Első_Rendelés": "2015-05-01",
                                    "Utolsó_Rendelés": "2017-03-30"
                                },
                                {
                                    "Login": "andi",
                                    "Első_Rendelés": "2015-05-06",
                                    "Utolsó_Rendelés": "2017-03-30"
                                },
                                {
                                    "Login": "zsolt1",
                                    "Első_Rendelés": "2015-05-02",
                                    "Utolsó_Rendelés": "2017-03-30"
                                },
                                {
                                    "Login": "georgij",
                                    "Első_Rendelés": "2015-05-06",
                                    "Utolsó_Rendelés": "2017-03-30"
                                },
                                {
                                    "Login": "JOZSEFG",
                                    "Első_Rendelés": "2015-05-01",
                                    "Utolsó_Rendelés": "2017-03-30"
                                },
                                {
                                    "Login": "NIKOLETTAT",
                                    "Első_Rendelés": "2015-05-01",
                                    "Utolsó_Rendelés": "2017-03-30"
                                },
                                {
                                    "Login": "emese",
                                    "Első_Rendelés": "2015-05-04",
                                    "Utolsó_Rendelés": "2017-03-29"
                                },
                                {
                                    "Login": "julia",
                                    "Első_Rendelés": "2015-05-09",
                                    "Utolsó_Rendelés": "2017-03-29"
                                },
                                {
                                    "Login": "balu",
                                    "Első_Rendelés": "2015-05-11",
                                    "Utolsó_Rendelés": "2017-03-29"
                                },
                                {
                                    "Login": "david",
                                    "Első_Rendelés": "2015-05-04",
                                    "Utolsó_Rendelés": "2017-03-29"
                                },
                                {
                                    "Login": "denes",
                                    "Első_Rendelés": "2015-05-08",
                                    "Utolsó_Rendelés": "2017-03-29"
                                },
                                {
                                    "Login": "lala",
                                    "Első_Rendelés": "2015-05-05",
                                    "Utolsó_Rendelés": "2017-03-29"
                                },
                                {
                                    "Login": "balint",
                                    "Első_Rendelés": "2015-05-07",
                                    "Utolsó_Rendelés": "2017-03-29"
                                },
                                {
                                    "Login": "ANIKOS",
                                    "Első_Rendelés": "2015-05-04",
                                    "Utolsó_Rendelés": "2017-03-29"
                                },
                                {
                                    "Login": "aniko4",
                                    "Első_Rendelés": "2015-05-01",
                                    "Utolsó_Rendelés": "2017-03-29"
                                },
                                {
                                    "Login": "BEATRIXK",
                                    "Első_Rendelés": "2015-05-02",
                                    "Utolsó_Rendelés": "2017-03-29"
                                },
                                {
                                    "Login": "ANDRASN",
                                    "Első_Rendelés": "2015-05-06",
                                    "Utolsó_Rendelés": "2017-03-29"
                                },
                                {
                                    "Login": "jozsef2",
                                    "Első_Rendelés": "2015-05-02",
                                    "Utolsó_Rendelés": "2017-03-29"
                                },
                                {
                                    "Login": "brigitta",
                                    "Első_Rendelés": "2015-05-11",
                                    "Utolsó_Rendelés": "2017-03-29"
                                },
                                {
                                    "Login": "tunde",
                                    "Első_Rendelés": "2015-05-03",
                                    "Utolsó_Rendelés": "2017-03-29"
                                },
                                {
                                    "Login": "GYORGYO",
                                    "Első_Rendelés": "2015-05-09",
                                    "Utolsó_Rendelés": "2017-03-29"
                                },
                                {
                                    "Login": "kata",
                                    "Első_Rendelés": "2015-05-11",
                                    "Utolsó_Rendelés": "2017-03-29"
                                },
                                {
                                    "Login": "sandor",
                                    "Első_Rendelés": "2015-05-01",
                                    "Utolsó_Rendelés": "2017-03-29"
                                },
                                {
                                    "Login": "sandor3",
                                    "Első_Rendelés": "2015-05-10",
                                    "Utolsó_Rendelés": "2017-03-29"
                                },
                                {
                                    "Login": "SZILARDS",
                                    "Első_Rendelés": "2015-05-09",
                                    "Utolsó_Rendelés": "2017-03-28"
                                },
                                {
                                    "Login": "roland1",
                                    "Első_Rendelés": "2015-05-01",
                                    "Utolsó_Rendelés": "2017-03-28"
                                },
                                {
                                    "Login": "gabriella10",
                                    "Első_Rendelés": "2015-05-04",
                                    "Utolsó_Rendelés": "2017-03-28"
                                },
                                {
                                    "Login": "ZSUZSAV",
                                    "Első_Rendelés": "2015-05-05",
                                    "Utolsó_Rendelés": "2017-03-28"
                                },
                                {
                                    "Login": "MIKLOSB",
                                    "Első_Rendelés": "2015-05-02",
                                    "Utolsó_Rendelés": "2017-03-28"
                                },
                                {
                                    "Login": "ANDRASE",
                                    "Első_Rendelés": "2015-05-01",
                                    "Utolsó_Rendelés": "2017-03-28"
                                },
                                {
                                    "Login": "balint2",
                                    "Első_Rendelés": "2015-05-03",
                                    "Utolsó_Rendelés": "2017-03-28"
                                },
                                {
                                    "Login": "laszlo1",
                                    "Első_Rendelés": "2015-05-03",
                                    "Utolsó_Rendelés": "2017-03-28"
                                },
                                {
                                    "Login": "TAMASF",
                                    "Első_Rendelés": "2015-05-02",
                                    "Utolsó_Rendelés": "2017-03-28"
                                },
                                {
                                    "Login": "miklos2",
                                    "Első_Rendelés": "2015-05-03",
                                    "Utolsó_Rendelés": "2017-03-28"
                                },
                                {
                                    "Login": "JANOSG",
                                    "Első_Rendelés": "2015-05-02",
                                    "Utolsó_Rendelés": "2017-03-28"
                                },
                                {
                                    "Login": "tibor2",
                                    "Első_Rendelés": "2015-05-07",
                                    "Utolsó_Rendelés": "2017-03-28"
                                },
                                {
                                    "Login": "peter2",
                                    "Első_Rendelés": "2015-05-05",
                                    "Utolsó_Rendelés": "2017-03-28"
                                },
                                {
                                    "Login": "ARPADM",
                                    "Első_Rendelés": "2015-05-21",
                                    "Utolsó_Rendelés": "2017-03-28"
                                },
                                {
                                    "Login": "LASZLOA",
                                    "Első_Rendelés": "2015-05-02",
                                    "Utolsó_Rendelés": "2017-03-28"
                                },
                                {
                                    "Login": "katka",
                                    "Első_Rendelés": "2015-05-03",
                                    "Utolsó_Rendelés": "2017-03-28"
                                },
                                {
                                    "Login": "IBOLYAA",
                                    "Első_Rendelés": "2015-05-10",
                                    "Utolsó_Rendelés": "2017-03-27"
                                },
                                {
                                    "Login": "katalin4",
                                    "Első_Rendelés": "2015-05-05",
                                    "Utolsó_Rendelés": "2017-03-27"
                                },
                                {
                                    "Login": "ESZTERE",
                                    "Első_Rendelés": "2015-05-02",
                                    "Utolsó_Rendelés": "2017-03-27"
                                },
                                {
                                    "Login": "kati",
                                    "Első_Rendelés": "2015-05-04",
                                    "Utolsó_Rendelés": "2017-03-27"
                                },
                                {
                                    "Login": "VIKTORIAU",
                                    "Első_Rendelés": "2015-05-05",
                                    "Utolsó_Rendelés": "2017-03-27"
                                },
                                {
                                    "Login": "adam1",
                                    "Első_Rendelés": "2015-05-04",
                                    "Utolsó_Rendelés": "2017-03-27"
                                },
                                {
                                    "Login": "BENCEB",
                                    "Első_Rendelés": "2015-05-02",
                                    "Utolsó_Rendelés": "2017-03-27"
                                },
                                {
                                    "Login": "MATYASS",
                                    "Első_Rendelés": "2015-05-27",
                                    "Utolsó_Rendelés": "2017-03-27"
                                },
                                {
                                    "Login": "krisztina1",
                                    "Első_Rendelés": "2015-05-04",
                                    "Utolsó_Rendelés": "2017-03-27"
                                },
                                {
                                    "Login": "ROBERTI",
                                    "Első_Rendelés": "2015-05-03",
                                    "Utolsó_Rendelés": "2017-03-27"
                                },
                                {
                                    "Login": "ISTVANV",
                                    "Első_Rendelés": "2015-05-03",
                                    "Utolsó_Rendelés": "2017-03-27"
                                },
                                {
                                    "Login": "aniko",
                                    "Első_Rendelés": "2015-05-07",
                                    "Utolsó_Rendelés": "2017-03-26"
                                },
                                {
                                    "Login": "matyas2",
                                    "Első_Rendelés": "2015-05-03",
                                    "Utolsó_Rendelés": "2017-03-26"
                                },
                                {
                                    "Login": "reka4",
                                    "Első_Rendelés": "2015-05-08",
                                    "Utolsó_Rendelés": "2017-03-26"
                                },
                                {
                                    "Login": "balazs3",
                                    "Első_Rendelés": "2015-05-07",
                                    "Utolsó_Rendelés": "2017-03-26"
                                },
                                {
                                    "Login": "eva",
                                    "Első_Rendelés": "2015-05-03",
                                    "Utolsó_Rendelés": "2017-03-26"
                                },
                                {
                                    "Login": "kristof4",
                                    "Első_Rendelés": "2015-05-01",
                                    "Utolsó_Rendelés": "2017-03-26"
                                },
                                {
                                    "Login": "nikoletta4",
                                    "Első_Rendelés": "2015-05-01",
                                    "Utolsó_Rendelés": "2017-03-26"
                                },
                                {
                                    "Login": "zsuzsa",
                                    "Első_Rendelés": "2015-05-03",
                                    "Utolsó_Rendelés": "2017-03-26"
                                },
                                {
                                    "Login": "MONIKAM",
                                    "Első_Rendelés": "2015-05-16",
                                    "Utolsó_Rendelés": "2017-03-26"
                                },
                                {
                                    "Login": "imre1",
                                    "Első_Rendelés": "2015-05-13",
                                    "Utolsó_Rendelés": "2017-03-25"
                                },
                                {
                                    "Login": "imre",
                                    "Első_Rendelés": "2015-05-17",
                                    "Utolsó_Rendelés": "2017-03-25"
                                },
                                {
                                    "Login": "lajos",
                                    "Első_Rendelés": "2015-05-02",
                                    "Utolsó_Rendelés": "2017-03-25"
                                },
                                {
                                    "Login": "gusztav",
                                    "Első_Rendelés": "2015-05-01",
                                    "Utolsó_Rendelés": "2017-03-25"
                                },
                                {
                                    "Login": "janos3",
                                    "Első_Rendelés": "2015-05-03",
                                    "Utolsó_Rendelés": "2017-03-25"
                                },
                                {
                                    "Login": "polla",
                                    "Első_Rendelés": "2015-05-01",
                                    "Utolsó_Rendelés": "2017-03-25"
                                },
                                {
                                    "Login": "gabor1",
                                    "Első_Rendelés": "2015-05-04",
                                    "Utolsó_Rendelés": "2017-03-25"
                                },
                                {
                                    "Login": "pal",
                                    "Első_Rendelés": "2015-05-03",
                                    "Utolsó_Rendelés": "2017-03-25"
                                },
                                {
                                    "Login": "tibor",
                                    "Első_Rendelés": "2015-05-02",
                                    "Utolsó_Rendelés": "2017-03-24"
                                },
                                {
                                    "Login": "vivien3",
                                    "Első_Rendelés": "2015-05-03",
                                    "Utolsó_Rendelés": "2017-03-24"
                                },
                                {
                                    "Login": "eva2",
                                    "Első_Rendelés": "2015-05-04",
                                    "Utolsó_Rendelés": "2017-03-24"
                                },
                                {
                                    "Login": "ANDREAT",
                                    "Első_Rendelés": "2015-05-05",
                                    "Utolsó_Rendelés": "2017-03-24"
                                },
                                {
                                    "Login": "krisztina",
                                    "Első_Rendelés": "2015-05-02",
                                    "Utolsó_Rendelés": "2017-03-24"
                                },
                                {
                                    "Login": "agnes",
                                    "Első_Rendelés": "2015-05-05",
                                    "Utolsó_Rendelés": "2017-03-24"
                                },
                                {
                                    "Login": "henrik3",
                                    "Első_Rendelés": "2015-05-04",
                                    "Utolsó_Rendelés": "2017-03-24"
                                },
                                {
                                    "Login": "GABORS",
                                    "Első_Rendelés": "2015-05-01",
                                    "Utolsó_Rendelés": "2017-03-24"
                                },
                                {
                                    "Login": "andras2",
                                    "Első_Rendelés": "2015-05-07",
                                    "Utolsó_Rendelés": "2017-03-24"
                                },
                                {
                                    "Login": "peter3",
                                    "Első_Rendelés": "2015-05-04",
                                    "Utolsó_Rendelés": "2017-03-23"
                                },
                                {
                                    "Login": "AGNESK",
                                    "Első_Rendelés": "2015-05-05",
                                    "Utolsó_Rendelés": "2017-03-23"
                                },
                                {
                                    "Login": "szilvia1",
                                    "Első_Rendelés": "2015-05-06",
                                    "Utolsó_Rendelés": "2017-03-23"
                                },
                                {
                                    "Login": "kornel4",
                                    "Első_Rendelés": "2015-05-06",
                                    "Utolsó_Rendelés": "2017-03-22"
                                },
                                {
                                    "Login": "norbert5",
                                    "Első_Rendelés": "2015-05-12",
                                    "Utolsó_Rendelés": "2017-03-22"
                                },
                                {
                                    "Login": "tihamer",
                                    "Első_Rendelés": "2015-05-05",
                                    "Utolsó_Rendelés": "2017-03-22"
                                },
                                {
                                    "Login": "nikolett3",
                                    "Első_Rendelés": "2015-05-03",
                                    "Utolsó_Rendelés": "2017-03-22"
                                },
                                {
                                    "Login": "andras41",
                                    "Első_Rendelés": "2015-05-02",
                                    "Utolsó_Rendelés": "2017-03-21"
                                },
                                {
                                    "Login": "ANNAMARIAR",
                                    "Első_Rendelés": "2015-05-03",
                                    "Utolsó_Rendelés": "2017-03-21"
                                },
                                {
                                    "Login": "andras21",
                                    "Első_Rendelés": "2015-05-06",
                                    "Utolsó_Rendelés": "2017-03-21"
                                },
                                {
                                    "Login": "ZOLTANP",
                                    "Első_Rendelés": "2015-05-07",
                                    "Utolsó_Rendelés": "2017-03-21"
                                },
                                {
                                    "Login": "krisztian4",
                                    "Első_Rendelés": "2015-05-07",
                                    "Utolsó_Rendelés": "2017-03-20"
                                },
                                {
                                    "Login": "KRISZTIANM",
                                    "Első_Rendelés": "2015-05-04",
                                    "Utolsó_Rendelés": "2017-03-20"
                                },
                                {
                                    "Login": "zoltan4",
                                    "Első_Rendelés": "2015-05-01",
                                    "Utolsó_Rendelés": "2017-03-20"
                                },
                                {
                                    "Login": "VIKTORK",
                                    "Első_Rendelés": "2015-05-03",
                                    "Utolsó_Rendelés": "2017-03-19"
                                },
                                {
                                    "Login": "maria1",
                                    "Első_Rendelés": "2015-05-03",
                                    "Utolsó_Rendelés": "2017-03-19"
                                },
                                {
                                    "Login": "valentin",
                                    "Első_Rendelés": "2015-05-01",
                                    "Utolsó_Rendelés": "2017-03-19"
                                },
                                {
                                    "Login": "jozsef",
                                    "Első_Rendelés": "2015-05-04",
                                    "Utolsó_Rendelés": "2017-03-18"
                                },
                                {
                                    "Login": "bernadett1",
                                    "Első_Rendelés": "2015-05-04",
                                    "Utolsó_Rendelés": "2017-03-18"
                                },
                                {
                                    "Login": "roza2",
                                    "Első_Rendelés": "2015-05-11",
                                    "Utolsó_Rendelés": "2017-03-17"
                                },
                                {
                                    "Login": "MIHALYJ",
                                    "Első_Rendelés": "2015-05-05",
                                    "Utolsó_Rendelés": "2017-03-16"
                                },
                                {
                                    "Login": "edit",
                                    "Első_Rendelés": "2015-05-02",
                                    "Utolsó_Rendelés": "2017-03-15"
                                },
                                {
                                    "Login": "bertalan",
                                    "Első_Rendelés": "2015-05-02",
                                    "Utolsó_Rendelés": "2017-03-14"
                                },
                                {
                                    "Login": "zoltan",
                                    "Első_Rendelés": "2015-05-06",
                                    "Utolsó_Rendelés": "2017-03-13"
                                },
                                {
                                    "Login": "anita",
                                    "Első_Rendelés": "2015-05-02",
                                    "Utolsó_Rendelés": "2017-03-13"
                                },
                                {
                                    "Login": "ZOLTANT",
                                    "Első_Rendelés": "2015-05-05",
                                    "Utolsó_Rendelés": "2017-03-13"
                                },
                                {
                                    "Login": "norbert4",
                                    "Első_Rendelés": "2015-05-15",
                                    "Utolsó_Rendelés": "2017-03-10"
                                },
                                {
                                    "Login": "sandor4",
                                    "Első_Rendelés": "2015-05-07",
                                    "Utolsó_Rendelés": "2017-03-07"
                                }
                            ]
                        },
                        "text/html": "<table><tr><th>Login</th><th>Első_Rendelés</th><th>Utolsó_Rendelés</th></tr><tr><td>BERNADETTO</td><td>2015-05-02</td><td>2017-04-01</td></tr><tr><td>JUDITH</td><td>2015-05-01</td><td>2017-04-01</td></tr><tr><td>adam3</td><td>2015-05-04</td><td>2017-04-01</td></tr><tr><td>daniel</td><td>2015-05-12</td><td>2017-04-01</td></tr><tr><td>julianna4</td><td>2015-05-01</td><td>2017-04-01</td></tr><tr><td>ATTILAO</td><td>2015-05-01</td><td>2017-04-01</td></tr><tr><td>andrea3</td><td>2015-06-12</td><td>2017-04-01</td></tr><tr><td>sebestyen</td><td>2015-05-06</td><td>2017-04-01</td></tr><tr><td>csongor3</td><td>2015-05-08</td><td>2017-04-01</td></tr><tr><td>andras4</td><td>2015-05-18</td><td>2017-04-01</td></tr><tr><td>AGNESH</td><td>2015-05-08</td><td>2017-04-01</td></tr><tr><td>bence</td><td>2015-05-08</td><td>2017-04-01</td></tr><tr><td>dora3</td><td>2015-05-03</td><td>2017-04-01</td></tr><tr><td>szabolcs</td><td>2015-05-05</td><td>2017-04-01</td></tr><tr><td>zsofi1</td><td>2015-05-12</td><td>2017-04-01</td></tr><tr><td>BELAF</td><td>2015-05-01</td><td>2017-04-01</td></tr><tr><td>rajmond4</td><td>2015-05-12</td><td>2017-04-01</td></tr><tr><td>katalin</td><td>2015-05-01</td><td>2017-04-01</td></tr><tr><td>eszter2</td><td>2015-05-06</td><td>2017-04-01</td></tr><tr><td>ilona3</td><td>2015-05-04</td><td>2017-04-01</td></tr><tr><td>aron2</td><td>2015-05-04</td><td>2017-04-01</td></tr><tr><td>PETERB</td><td>2015-05-05</td><td>2017-04-01</td></tr><tr><td>timea2</td><td>2015-05-03</td><td>2017-04-01</td></tr><tr><td>david1</td><td>2015-05-16</td><td>2017-04-01</td></tr><tr><td>zsuzsanna</td><td>2015-05-05</td><td>2017-04-01</td></tr><tr><td>ARPADH</td><td>2015-05-02</td><td>2017-04-01</td></tr><tr><td>andrea</td><td>2015-05-02</td><td>2017-04-01</td></tr><tr><td>daniel1</td><td>2015-05-02</td><td>2017-04-01</td></tr><tr><td>timea</td><td>2015-05-03</td><td>2017-04-01</td></tr><tr><td>LASZLON</td><td>2015-05-02</td><td>2017-04-01</td></tr><tr><td>gabriella1</td><td>2015-05-14</td><td>2017-04-01</td></tr><tr><td>brigitta3</td><td>2015-05-02</td><td>2017-04-01</td></tr><tr><td>SEBASTIANF</td><td>2015-05-07</td><td>2017-04-01</td></tr><tr><td>debora</td><td>2015-05-10</td><td>2017-04-01</td></tr><tr><td>tamara2</td><td>2015-05-06</td><td>2017-04-01</td></tr><tr><td>BEATRIXS</td><td>2015-05-02</td><td>2017-04-01</td></tr><tr><td>KRISZTINAG</td><td>2015-05-03</td><td>2017-03-31</td></tr><tr><td>MARKH</td><td>2015-05-17</td><td>2017-03-31</td></tr><tr><td>ferenc1</td><td>2015-05-12</td><td>2017-03-31</td></tr><tr><td>anett3</td><td>2015-05-02</td><td>2017-03-31</td></tr><tr><td>klaudia2</td><td>2015-05-13</td><td>2017-03-31</td></tr><tr><td>agnes3</td><td>2015-05-05</td><td>2017-03-31</td></tr><tr><td>andras3</td><td>2015-05-07</td><td>2017-03-31</td></tr><tr><td>SZABOLCSM</td><td>2015-05-01</td><td>2017-03-31</td></tr><tr><td>sara</td><td>2015-05-05</td><td>2017-03-31</td></tr><tr><td>balazs2</td><td>2015-05-01</td><td>2017-03-31</td></tr><tr><td>istvan</td><td>2015-05-09</td><td>2017-03-31</td></tr><tr><td>eszter4</td><td>2015-05-14</td><td>2017-03-31</td></tr><tr><td>bernadett2</td><td>2015-05-03</td><td>2017-03-31</td></tr><tr><td>attila1</td><td>2015-05-02</td><td>2017-03-31</td></tr><tr><td>balazs1</td><td>2015-05-17</td><td>2017-03-31</td></tr><tr><td>gabor4</td><td>2015-05-04</td><td>2017-03-31</td></tr><tr><td>veronika4</td><td>2015-05-01</td><td>2017-03-31</td></tr><tr><td>norbert2</td><td>2015-05-01</td><td>2017-03-31</td></tr><tr><td>balint1</td><td>2015-05-01</td><td>2017-03-31</td></tr><tr><td>robert2</td><td>2015-05-03</td><td>2017-03-31</td></tr><tr><td>EVAV</td><td>2015-05-14</td><td>2017-03-31</td></tr><tr><td>kriszti</td><td>2015-05-01</td><td>2017-03-31</td></tr><tr><td>dani</td><td>2015-05-04</td><td>2017-03-31</td></tr><tr><td>alexandra</td><td>2015-05-06</td><td>2017-03-31</td></tr><tr><td>peter1</td><td>2015-05-08</td><td>2017-03-31</td></tr><tr><td>peter4</td><td>2015-05-02</td><td>2017-03-31</td></tr><tr><td>tamas</td><td>2015-05-05</td><td>2017-03-31</td></tr><tr><td>JANOSP</td><td>2015-05-06</td><td>2017-03-31</td></tr><tr><td>ZSOLTJ</td><td>2015-05-01</td><td>2017-03-31</td></tr><tr><td>ROBERTP</td><td>2015-05-05</td><td>2017-03-31</td></tr><tr><td>laszlo2</td><td>2015-05-01</td><td>2017-03-31</td></tr><tr><td>aladar</td><td>2015-05-04</td><td>2017-03-31</td></tr><tr><td>david4</td><td>2015-05-04</td><td>2017-03-30</td></tr><tr><td>arpad2</td><td>2015-05-08</td><td>2017-03-30</td></tr><tr><td>fruzsina4</td><td>2015-05-08</td><td>2017-03-30</td></tr><tr><td>akos</td><td>2015-05-16</td><td>2017-03-30</td></tr><tr><td>adam4</td><td>2015-05-02</td><td>2017-03-30</td></tr><tr><td>ARONK</td><td>2015-05-02</td><td>2017-03-30</td></tr><tr><td>RENATAK</td><td>2015-05-02</td><td>2017-03-30</td></tr><tr><td>RENATAS</td><td>2015-05-05</td><td>2017-03-30</td></tr><tr><td>GYONGYIK</td><td>2015-05-11</td><td>2017-03-30</td></tr><tr><td>attila4</td><td>2015-05-02</td><td>2017-03-30</td></tr><tr><td>roland</td><td>2015-05-13</td><td>2017-03-30</td></tr><tr><td>zsuzsa3</td><td>2015-05-08</td><td>2017-03-30</td></tr><tr><td>MATEK</td><td>2015-05-05</td><td>2017-03-30</td></tr><tr><td>marton</td><td>2015-05-02</td><td>2017-03-30</td></tr><tr><td>andrea4</td><td>2015-05-01</td><td>2017-03-30</td></tr><tr><td>NANDORF</td><td>2015-05-11</td><td>2017-03-30</td></tr><tr><td>annamaria1</td><td>2015-05-03</td><td>2017-03-30</td></tr><tr><td>istvan1</td><td>2015-05-08</td><td>2017-03-30</td></tr><tr><td>julia4</td><td>2015-05-01</td><td>2017-03-30</td></tr><tr><td>andi</td><td>2015-05-06</td><td>2017-03-30</td></tr><tr><td>zsolt1</td><td>2015-05-02</td><td>2017-03-30</td></tr><tr><td>georgij</td><td>2015-05-06</td><td>2017-03-30</td></tr><tr><td>JOZSEFG</td><td>2015-05-01</td><td>2017-03-30</td></tr><tr><td>NIKOLETTAT</td><td>2015-05-01</td><td>2017-03-30</td></tr><tr><td>emese</td><td>2015-05-04</td><td>2017-03-29</td></tr><tr><td>julia</td><td>2015-05-09</td><td>2017-03-29</td></tr><tr><td>balu</td><td>2015-05-11</td><td>2017-03-29</td></tr><tr><td>david</td><td>2015-05-04</td><td>2017-03-29</td></tr><tr><td>denes</td><td>2015-05-08</td><td>2017-03-29</td></tr><tr><td>lala</td><td>2015-05-05</td><td>2017-03-29</td></tr><tr><td>balint</td><td>2015-05-07</td><td>2017-03-29</td></tr><tr><td>ANIKOS</td><td>2015-05-04</td><td>2017-03-29</td></tr><tr><td>aniko4</td><td>2015-05-01</td><td>2017-03-29</td></tr><tr><td>BEATRIXK</td><td>2015-05-02</td><td>2017-03-29</td></tr><tr><td>ANDRASN</td><td>2015-05-06</td><td>2017-03-29</td></tr><tr><td>jozsef2</td><td>2015-05-02</td><td>2017-03-29</td></tr><tr><td>brigitta</td><td>2015-05-11</td><td>2017-03-29</td></tr><tr><td>tunde</td><td>2015-05-03</td><td>2017-03-29</td></tr><tr><td>GYORGYO</td><td>2015-05-09</td><td>2017-03-29</td></tr><tr><td>kata</td><td>2015-05-11</td><td>2017-03-29</td></tr><tr><td>sandor</td><td>2015-05-01</td><td>2017-03-29</td></tr><tr><td>sandor3</td><td>2015-05-10</td><td>2017-03-29</td></tr><tr><td>SZILARDS</td><td>2015-05-09</td><td>2017-03-28</td></tr><tr><td>roland1</td><td>2015-05-01</td><td>2017-03-28</td></tr><tr><td>gabriella10</td><td>2015-05-04</td><td>2017-03-28</td></tr><tr><td>ZSUZSAV</td><td>2015-05-05</td><td>2017-03-28</td></tr><tr><td>MIKLOSB</td><td>2015-05-02</td><td>2017-03-28</td></tr><tr><td>ANDRASE</td><td>2015-05-01</td><td>2017-03-28</td></tr><tr><td>balint2</td><td>2015-05-03</td><td>2017-03-28</td></tr><tr><td>laszlo1</td><td>2015-05-03</td><td>2017-03-28</td></tr><tr><td>TAMASF</td><td>2015-05-02</td><td>2017-03-28</td></tr><tr><td>miklos2</td><td>2015-05-03</td><td>2017-03-28</td></tr><tr><td>JANOSG</td><td>2015-05-02</td><td>2017-03-28</td></tr><tr><td>tibor2</td><td>2015-05-07</td><td>2017-03-28</td></tr><tr><td>peter2</td><td>2015-05-05</td><td>2017-03-28</td></tr><tr><td>ARPADM</td><td>2015-05-21</td><td>2017-03-28</td></tr><tr><td>LASZLOA</td><td>2015-05-02</td><td>2017-03-28</td></tr><tr><td>katka</td><td>2015-05-03</td><td>2017-03-28</td></tr><tr><td>IBOLYAA</td><td>2015-05-10</td><td>2017-03-27</td></tr><tr><td>katalin4</td><td>2015-05-05</td><td>2017-03-27</td></tr><tr><td>ESZTERE</td><td>2015-05-02</td><td>2017-03-27</td></tr><tr><td>kati</td><td>2015-05-04</td><td>2017-03-27</td></tr><tr><td>VIKTORIAU</td><td>2015-05-05</td><td>2017-03-27</td></tr><tr><td>adam1</td><td>2015-05-04</td><td>2017-03-27</td></tr><tr><td>BENCEB</td><td>2015-05-02</td><td>2017-03-27</td></tr><tr><td>MATYASS</td><td>2015-05-27</td><td>2017-03-27</td></tr><tr><td>krisztina1</td><td>2015-05-04</td><td>2017-03-27</td></tr><tr><td>ROBERTI</td><td>2015-05-03</td><td>2017-03-27</td></tr><tr><td>ISTVANV</td><td>2015-05-03</td><td>2017-03-27</td></tr><tr><td>aniko</td><td>2015-05-07</td><td>2017-03-26</td></tr><tr><td>matyas2</td><td>2015-05-03</td><td>2017-03-26</td></tr><tr><td>reka4</td><td>2015-05-08</td><td>2017-03-26</td></tr><tr><td>balazs3</td><td>2015-05-07</td><td>2017-03-26</td></tr><tr><td>eva</td><td>2015-05-03</td><td>2017-03-26</td></tr><tr><td>kristof4</td><td>2015-05-01</td><td>2017-03-26</td></tr><tr><td>nikoletta4</td><td>2015-05-01</td><td>2017-03-26</td></tr><tr><td>zsuzsa</td><td>2015-05-03</td><td>2017-03-26</td></tr><tr><td>MONIKAM</td><td>2015-05-16</td><td>2017-03-26</td></tr><tr><td>imre1</td><td>2015-05-13</td><td>2017-03-25</td></tr><tr><td>imre</td><td>2015-05-17</td><td>2017-03-25</td></tr><tr><td>lajos</td><td>2015-05-02</td><td>2017-03-25</td></tr><tr><td>gusztav</td><td>2015-05-01</td><td>2017-03-25</td></tr><tr><td>janos3</td><td>2015-05-03</td><td>2017-03-25</td></tr><tr><td>polla</td><td>2015-05-01</td><td>2017-03-25</td></tr><tr><td>gabor1</td><td>2015-05-04</td><td>2017-03-25</td></tr><tr><td>pal</td><td>2015-05-03</td><td>2017-03-25</td></tr><tr><td>tibor</td><td>2015-05-02</td><td>2017-03-24</td></tr><tr><td>vivien3</td><td>2015-05-03</td><td>2017-03-24</td></tr><tr><td>eva2</td><td>2015-05-04</td><td>2017-03-24</td></tr><tr><td>ANDREAT</td><td>2015-05-05</td><td>2017-03-24</td></tr><tr><td>krisztina</td><td>2015-05-02</td><td>2017-03-24</td></tr><tr><td>agnes</td><td>2015-05-05</td><td>2017-03-24</td></tr><tr><td>henrik3</td><td>2015-05-04</td><td>2017-03-24</td></tr><tr><td>GABORS</td><td>2015-05-01</td><td>2017-03-24</td></tr><tr><td>andras2</td><td>2015-05-07</td><td>2017-03-24</td></tr><tr><td>peter3</td><td>2015-05-04</td><td>2017-03-23</td></tr><tr><td>AGNESK</td><td>2015-05-05</td><td>2017-03-23</td></tr><tr><td>szilvia1</td><td>2015-05-06</td><td>2017-03-23</td></tr><tr><td>kornel4</td><td>2015-05-06</td><td>2017-03-22</td></tr><tr><td>norbert5</td><td>2015-05-12</td><td>2017-03-22</td></tr><tr><td>tihamer</td><td>2015-05-05</td><td>2017-03-22</td></tr><tr><td>nikolett3</td><td>2015-05-03</td><td>2017-03-22</td></tr><tr><td>andras41</td><td>2015-05-02</td><td>2017-03-21</td></tr><tr><td>ANNAMARIAR</td><td>2015-05-03</td><td>2017-03-21</td></tr><tr><td>andras21</td><td>2015-05-06</td><td>2017-03-21</td></tr><tr><td>ZOLTANP</td><td>2015-05-07</td><td>2017-03-21</td></tr><tr><td>krisztian4</td><td>2015-05-07</td><td>2017-03-20</td></tr><tr><td>KRISZTIANM</td><td>2015-05-04</td><td>2017-03-20</td></tr><tr><td>zoltan4</td><td>2015-05-01</td><td>2017-03-20</td></tr><tr><td>VIKTORK</td><td>2015-05-03</td><td>2017-03-19</td></tr><tr><td>maria1</td><td>2015-05-03</td><td>2017-03-19</td></tr><tr><td>valentin</td><td>2015-05-01</td><td>2017-03-19</td></tr><tr><td>jozsef</td><td>2015-05-04</td><td>2017-03-18</td></tr><tr><td>bernadett1</td><td>2015-05-04</td><td>2017-03-18</td></tr><tr><td>roza2</td><td>2015-05-11</td><td>2017-03-17</td></tr><tr><td>MIHALYJ</td><td>2015-05-05</td><td>2017-03-16</td></tr><tr><td>edit</td><td>2015-05-02</td><td>2017-03-15</td></tr><tr><td>bertalan</td><td>2015-05-02</td><td>2017-03-14</td></tr><tr><td>zoltan</td><td>2015-05-06</td><td>2017-03-13</td></tr><tr><td>anita</td><td>2015-05-02</td><td>2017-03-13</td></tr><tr><td>ZOLTANT</td><td>2015-05-05</td><td>2017-03-13</td></tr><tr><td>norbert4</td><td>2015-05-15</td><td>2017-03-10</td></tr><tr><td>sandor4</td><td>2015-05-07</td><td>2017-03-07</td></tr></table>"
                    },
                    "metadata": {}
                }
            ],
            "execution_count": 57
        },
        {
            "cell_type": "code",
            "source": [
                "SELECT --Leggyorsabb és leglassabb szállítási idők\r\n",
                "    COUNT(*) AS RendelésSzám,\r\n",
                "    MIN(DATEDIFF(DAY, REND_DATUM, SZALL_DATUM)) AS Leggyorsabb,\r\n",
                "    MAX(DATEDIFF(DAY, REND_DATUM, SZALL_DATUM)) AS Leglassabb\r\n",
                "FROM dbo.Rendeles;\r\n",
                "\r\n",
                "\r\n",
                ""
            ],
            "metadata": {
                "azdata_cell_guid": "987f1ee2-d461-472b-8272-4d602b94949d",
                "language": "sql"
            },
            "outputs": [
                {
                    "output_type": "display_data",
                    "data": {
                        "text/html": "(1 row affected)"
                    },
                    "metadata": {}
                },
                {
                    "output_type": "display_data",
                    "data": {
                        "text/html": "Total execution time: 00:00:00.025"
                    },
                    "metadata": {}
                },
                {
                    "output_type": "execute_result",
                    "execution_count": 60,
                    "data": {
                        "application/vnd.dataresource+json": {
                            "schema": {
                                "fields": [
                                    {
                                        "name": "RendelésSzám"
                                    },
                                    {
                                        "name": "Leggyorsabb"
                                    },
                                    {
                                        "name": "Leglassabb"
                                    }
                                ]
                            },
                            "data": [
                                {
                                    "RendelésSzám": "28085",
                                    "Leggyorsabb": "2",
                                    "Leglassabb": "10"
                                }
                            ]
                        },
                        "text/html": "<table><tr><th>RendelésSzám</th><th>Leggyorsabb</th><th>Leglassabb</th></tr><tr><td>28085</td><td>2</td><td>10</td></tr></table>"
                    },
                    "metadata": {}
                }
            ],
            "execution_count": 60
        },
        {
            "cell_type": "code",
            "source": [
                "SELECT --Átlagos szállítási idők szállítási módonként\r\n",
                "    SZALL_MOD AS 'Szállítási_Mód',\r\n",
                "    COUNT(*) AS RendelésSzám,\r\n",
                "    AVG(DATEDIFF(DAY, REND_DATUM, SZALL_DATUM)) AS Átlagos_Szállítás_Nap\r\n",
                "FROM dbo.Rendeles\r\n",
                "WHERE SZALL_DATUM IS NOT NULL\r\n",
                "GROUP BY SZALL_MOD\r\n",
                "ORDER BY Átlagos_Szállítás_Nap DESC;\r\n",
                ""
            ],
            "metadata": {
                "azdata_cell_guid": "1c57ef91-1c4a-4e32-bf03-604a5f7e588c",
                "language": "sql"
            },
            "outputs": [
                {
                    "output_type": "display_data",
                    "data": {
                        "text/html": "(3 rows affected)"
                    },
                    "metadata": {}
                },
                {
                    "output_type": "display_data",
                    "data": {
                        "text/html": "Total execution time: 00:00:00.040"
                    },
                    "metadata": {}
                },
                {
                    "output_type": "execute_result",
                    "execution_count": 77,
                    "data": {
                        "application/vnd.dataresource+json": {
                            "schema": {
                                "fields": [
                                    {
                                        "name": "Szállítási_Mód"
                                    },
                                    {
                                        "name": "RendelésSzám"
                                    },
                                    {
                                        "name": "Átlagos_Szállítás_Nap"
                                    }
                                ]
                            },
                            "data": [
                                {
                                    "Szállítási_Mód": "GLS",
                                    "RendelésSzám": "9426",
                                    "Átlagos_Szállítás_Nap": "6"
                                },
                                {
                                    "Szállítási_Mód": "Személyes átvétel",
                                    "RendelésSzám": "9468",
                                    "Átlagos_Szállítás_Nap": "5"
                                },
                                {
                                    "Szállítási_Mód": "Posta",
                                    "RendelésSzám": "9191",
                                    "Átlagos_Szállítás_Nap": "5"
                                }
                            ]
                        },
                        "text/html": "<table><tr><th>Szállítási_Mód</th><th>RendelésSzám</th><th>Átlagos_Szállítás_Nap</th></tr><tr><td>GLS</td><td>9426</td><td>6</td></tr><tr><td>Személyes átvétel</td><td>9468</td><td>5</td></tr><tr><td>Posta</td><td>9191</td><td>5</td></tr></table>"
                    },
                    "metadata": {}
                }
            ],
            "execution_count": 77
        }
    ]
}